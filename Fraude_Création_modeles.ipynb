{
 "cells": [
  {
   "cell_type": "markdown",
   "id": "a1459b75",
   "metadata": {},
   "source": [
    "# Projet Fraude bancaire propre : Création des modèles"
   ]
  },
  {
   "cell_type": "code",
   "execution_count": 12,
   "id": "bddab6b3",
   "metadata": {},
   "outputs": [],
   "source": [
    "import os\n",
    "import pandas as pd\n",
    "import numpy as np\n",
    "import dask.dataframe as dd\n",
    "import matplotlib.pyplot as plt\n",
    "import sys \n",
    "import fastparquet\n",
    "from dask_ml.preprocessing import DummyEncoder\n",
    "import pickle\n",
    "import dask_ml \n",
    "from dask import delayed\n",
    "from sklearn.metrics import confusion_matrix, classification_report, roc_auc_score, roc_curve\n",
    "import scikitplot as skplt\n",
    "from dask_ml.preprocessing import StandardScaler\n",
    "\n",
    "# Algorithmes\n",
    "from sklearn.tree import DecisionTreeClassifier \n",
    "from sklearn.ensemble import RandomForestClassifier\n",
    "from sklearn.linear_model import LogisticRegression"
   ]
  },
  {
   "cell_type": "code",
   "execution_count": 2,
   "id": "50f95e20",
   "metadata": {},
   "outputs": [
    {
     "data": {
      "text/plain": [
       "'/home/elisa/Documents/M2_SISE/BigDataMining/Projet_Fraude'"
      ]
     },
     "execution_count": 2,
     "metadata": {},
     "output_type": "execute_result"
    }
   ],
   "source": [
    "os.getcwd()"
   ]
  },
  {
   "cell_type": "markdown",
   "id": "46843e07",
   "metadata": {},
   "source": [
    "## I. Importation du dataset\n",
    "Le pré-traitement du dataset a déjà été fait en amont. Nous importons donc directement le fichier au format dask à partir d'un format parquet."
   ]
  },
  {
   "cell_type": "code",
   "execution_count": 3,
   "id": "d4a11b41",
   "metadata": {},
   "outputs": [
    {
     "data": {
      "text/html": [
       "<div>\n",
       "<style scoped>\n",
       "    .dataframe tbody tr th:only-of-type {\n",
       "        vertical-align: middle;\n",
       "    }\n",
       "\n",
       "    .dataframe tbody tr th {\n",
       "        vertical-align: top;\n",
       "    }\n",
       "\n",
       "    .dataframe thead th {\n",
       "        text-align: right;\n",
       "    }\n",
       "</style>\n",
       "<table border=\"1\" class=\"dataframe\">\n",
       "  <thead>\n",
       "    <tr style=\"text-align: right;\">\n",
       "      <th></th>\n",
       "      <th>FlagImpaye</th>\n",
       "      <th>Montant</th>\n",
       "      <th>CodeDecision</th>\n",
       "      <th>D2CB</th>\n",
       "      <th>ScoringFP1</th>\n",
       "      <th>ScoringFP2</th>\n",
       "      <th>ScoringFP3</th>\n",
       "      <th>TauxImpNb_RB</th>\n",
       "      <th>TauxImpNB_CPM</th>\n",
       "      <th>EcartNumCheq</th>\n",
       "      <th>NbrMagasin3J</th>\n",
       "      <th>DiffDateTr1</th>\n",
       "      <th>DiffDateTr2</th>\n",
       "      <th>DiffDateTr3</th>\n",
       "      <th>CA3TRetMtt</th>\n",
       "      <th>CA3TR</th>\n",
       "      <th>Date</th>\n",
       "      <th>Heure</th>\n",
       "    </tr>\n",
       "  </thead>\n",
       "  <tbody>\n",
       "    <tr>\n",
       "      <th>0</th>\n",
       "      <td>0</td>\n",
       "      <td>20.00</td>\n",
       "      <td>1</td>\n",
       "      <td>551</td>\n",
       "      <td>0.000000</td>\n",
       "      <td>0.000000</td>\n",
       "      <td>0.000000</td>\n",
       "      <td>37.186668</td>\n",
       "      <td>52.076034</td>\n",
       "      <td>0</td>\n",
       "      <td>1</td>\n",
       "      <td>4.000000</td>\n",
       "      <td>4.0</td>\n",
       "      <td>4.0</td>\n",
       "      <td>20.00</td>\n",
       "      <td>0.00</td>\n",
       "      <td>2017-02-01</td>\n",
       "      <td>07:32:14</td>\n",
       "    </tr>\n",
       "    <tr>\n",
       "      <th>1</th>\n",
       "      <td>0</td>\n",
       "      <td>20.00</td>\n",
       "      <td>1</td>\n",
       "      <td>551</td>\n",
       "      <td>0.000000</td>\n",
       "      <td>0.000000</td>\n",
       "      <td>0.000000</td>\n",
       "      <td>48.844716</td>\n",
       "      <td>52.076034</td>\n",
       "      <td>1</td>\n",
       "      <td>2</td>\n",
       "      <td>1.797685</td>\n",
       "      <td>4.0</td>\n",
       "      <td>4.0</td>\n",
       "      <td>28.61</td>\n",
       "      <td>8.61</td>\n",
       "      <td>2017-02-01</td>\n",
       "      <td>07:43:37</td>\n",
       "    </tr>\n",
       "    <tr>\n",
       "      <th>2</th>\n",
       "      <td>0</td>\n",
       "      <td>57.64</td>\n",
       "      <td>1</td>\n",
       "      <td>549</td>\n",
       "      <td>0.000000</td>\n",
       "      <td>0.000000</td>\n",
       "      <td>0.000000</td>\n",
       "      <td>73.118280</td>\n",
       "      <td>52.076034</td>\n",
       "      <td>0</td>\n",
       "      <td>1</td>\n",
       "      <td>4.000000</td>\n",
       "      <td>4.0</td>\n",
       "      <td>4.0</td>\n",
       "      <td>57.64</td>\n",
       "      <td>0.00</td>\n",
       "      <td>2017-02-01</td>\n",
       "      <td>07:47:38</td>\n",
       "    </tr>\n",
       "    <tr>\n",
       "      <th>3</th>\n",
       "      <td>0</td>\n",
       "      <td>54.29</td>\n",
       "      <td>0</td>\n",
       "      <td>267</td>\n",
       "      <td>0.000000</td>\n",
       "      <td>0.000000</td>\n",
       "      <td>0.000000</td>\n",
       "      <td>110.056926</td>\n",
       "      <td>53.554234</td>\n",
       "      <td>0</td>\n",
       "      <td>1</td>\n",
       "      <td>4.000000</td>\n",
       "      <td>4.0</td>\n",
       "      <td>4.0</td>\n",
       "      <td>54.29</td>\n",
       "      <td>0.00</td>\n",
       "      <td>2017-02-01</td>\n",
       "      <td>07:48:48</td>\n",
       "    </tr>\n",
       "    <tr>\n",
       "      <th>4</th>\n",
       "      <td>0</td>\n",
       "      <td>26.90</td>\n",
       "      <td>1</td>\n",
       "      <td>549</td>\n",
       "      <td>0.003769</td>\n",
       "      <td>8.586333</td>\n",
       "      <td>0.001192</td>\n",
       "      <td>45.368313</td>\n",
       "      <td>52.076034</td>\n",
       "      <td>1</td>\n",
       "      <td>1</td>\n",
       "      <td>1.997106</td>\n",
       "      <td>4.0</td>\n",
       "      <td>4.0</td>\n",
       "      <td>59.15</td>\n",
       "      <td>32.25</td>\n",
       "      <td>2017-02-01</td>\n",
       "      <td>08:13:27</td>\n",
       "    </tr>\n",
       "  </tbody>\n",
       "</table>\n",
       "</div>"
      ],
      "text/plain": [
       "   FlagImpaye  Montant  CodeDecision  D2CB  ScoringFP1  ScoringFP2  \\\n",
       "0           0    20.00             1   551    0.000000    0.000000   \n",
       "1           0    20.00             1   551    0.000000    0.000000   \n",
       "2           0    57.64             1   549    0.000000    0.000000   \n",
       "3           0    54.29             0   267    0.000000    0.000000   \n",
       "4           0    26.90             1   549    0.003769    8.586333   \n",
       "\n",
       "   ScoringFP3  TauxImpNb_RB  TauxImpNB_CPM  EcartNumCheq  NbrMagasin3J  \\\n",
       "0    0.000000     37.186668      52.076034             0             1   \n",
       "1    0.000000     48.844716      52.076034             1             2   \n",
       "2    0.000000     73.118280      52.076034             0             1   \n",
       "3    0.000000    110.056926      53.554234             0             1   \n",
       "4    0.001192     45.368313      52.076034             1             1   \n",
       "\n",
       "   DiffDateTr1  DiffDateTr2  DiffDateTr3  CA3TRetMtt  CA3TR        Date  \\\n",
       "0     4.000000          4.0          4.0       20.00   0.00  2017-02-01   \n",
       "1     1.797685          4.0          4.0       28.61   8.61  2017-02-01   \n",
       "2     4.000000          4.0          4.0       57.64   0.00  2017-02-01   \n",
       "3     4.000000          4.0          4.0       54.29   0.00  2017-02-01   \n",
       "4     1.997106          4.0          4.0       59.15  32.25  2017-02-01   \n",
       "\n",
       "      Heure  \n",
       "0  07:32:14  \n",
       "1  07:43:37  \n",
       "2  07:47:38  \n",
       "3  07:48:48  \n",
       "4  08:13:27  "
      ]
     },
     "execution_count": 3,
     "metadata": {},
     "output_type": "execute_result"
    }
   ],
   "source": [
    "df = dd.read_parquet('guillaumeb_parquet')\n",
    "df.head()"
   ]
  },
  {
   "cell_type": "markdown",
   "id": "7ef79876",
   "metadata": {},
   "source": [
    "## II. Subdivision en apprentissage/test\n",
    " - dfTrain : du 2017-02-01 au 2017-08-31\n",
    " - dfTest : du 2017-09-01 au 2017-11-30"
   ]
  },
  {
   "cell_type": "code",
   "execution_count": 4,
   "id": "ad70d860",
   "metadata": {},
   "outputs": [],
   "source": [
    "# Canger le type de la variable \"CodeDecision\"\n",
    "df['CodeDecision'] = df['CodeDecision'].astype('object')"
   ]
  },
  {
   "cell_type": "code",
   "execution_count": 5,
   "id": "e0f07c04",
   "metadata": {},
   "outputs": [
    {
     "data": {
      "text/html": [
       "<div>\n",
       "<style scoped>\n",
       "    .dataframe tbody tr th:only-of-type {\n",
       "        vertical-align: middle;\n",
       "    }\n",
       "\n",
       "    .dataframe tbody tr th {\n",
       "        vertical-align: top;\n",
       "    }\n",
       "\n",
       "    .dataframe thead th {\n",
       "        text-align: right;\n",
       "    }\n",
       "</style>\n",
       "<table border=\"1\" class=\"dataframe\">\n",
       "  <thead>\n",
       "    <tr style=\"text-align: right;\">\n",
       "      <th></th>\n",
       "      <th>FlagImpaye</th>\n",
       "      <th>Montant</th>\n",
       "      <th>CodeDecision</th>\n",
       "      <th>D2CB</th>\n",
       "      <th>ScoringFP1</th>\n",
       "      <th>ScoringFP2</th>\n",
       "      <th>ScoringFP3</th>\n",
       "      <th>TauxImpNb_RB</th>\n",
       "      <th>TauxImpNB_CPM</th>\n",
       "      <th>EcartNumCheq</th>\n",
       "      <th>NbrMagasin3J</th>\n",
       "      <th>DiffDateTr1</th>\n",
       "      <th>DiffDateTr2</th>\n",
       "      <th>DiffDateTr3</th>\n",
       "      <th>CA3TRetMtt</th>\n",
       "      <th>CA3TR</th>\n",
       "      <th>Date</th>\n",
       "      <th>Heure</th>\n",
       "    </tr>\n",
       "  </thead>\n",
       "  <tbody>\n",
       "    <tr>\n",
       "      <th>0</th>\n",
       "      <td>0</td>\n",
       "      <td>20.00</td>\n",
       "      <td>1</td>\n",
       "      <td>551</td>\n",
       "      <td>0.000000</td>\n",
       "      <td>0.000000</td>\n",
       "      <td>0.000000</td>\n",
       "      <td>37.186668</td>\n",
       "      <td>52.076034</td>\n",
       "      <td>0</td>\n",
       "      <td>1</td>\n",
       "      <td>4.000000</td>\n",
       "      <td>4.0</td>\n",
       "      <td>4.0</td>\n",
       "      <td>20.00</td>\n",
       "      <td>0.00</td>\n",
       "      <td>2017-02-01</td>\n",
       "      <td>07:32:14</td>\n",
       "    </tr>\n",
       "    <tr>\n",
       "      <th>1</th>\n",
       "      <td>0</td>\n",
       "      <td>20.00</td>\n",
       "      <td>1</td>\n",
       "      <td>551</td>\n",
       "      <td>0.000000</td>\n",
       "      <td>0.000000</td>\n",
       "      <td>0.000000</td>\n",
       "      <td>48.844716</td>\n",
       "      <td>52.076034</td>\n",
       "      <td>1</td>\n",
       "      <td>2</td>\n",
       "      <td>1.797685</td>\n",
       "      <td>4.0</td>\n",
       "      <td>4.0</td>\n",
       "      <td>28.61</td>\n",
       "      <td>8.61</td>\n",
       "      <td>2017-02-01</td>\n",
       "      <td>07:43:37</td>\n",
       "    </tr>\n",
       "    <tr>\n",
       "      <th>2</th>\n",
       "      <td>0</td>\n",
       "      <td>57.64</td>\n",
       "      <td>1</td>\n",
       "      <td>549</td>\n",
       "      <td>0.000000</td>\n",
       "      <td>0.000000</td>\n",
       "      <td>0.000000</td>\n",
       "      <td>73.118280</td>\n",
       "      <td>52.076034</td>\n",
       "      <td>0</td>\n",
       "      <td>1</td>\n",
       "      <td>4.000000</td>\n",
       "      <td>4.0</td>\n",
       "      <td>4.0</td>\n",
       "      <td>57.64</td>\n",
       "      <td>0.00</td>\n",
       "      <td>2017-02-01</td>\n",
       "      <td>07:47:38</td>\n",
       "    </tr>\n",
       "    <tr>\n",
       "      <th>3</th>\n",
       "      <td>0</td>\n",
       "      <td>54.29</td>\n",
       "      <td>0</td>\n",
       "      <td>267</td>\n",
       "      <td>0.000000</td>\n",
       "      <td>0.000000</td>\n",
       "      <td>0.000000</td>\n",
       "      <td>110.056926</td>\n",
       "      <td>53.554234</td>\n",
       "      <td>0</td>\n",
       "      <td>1</td>\n",
       "      <td>4.000000</td>\n",
       "      <td>4.0</td>\n",
       "      <td>4.0</td>\n",
       "      <td>54.29</td>\n",
       "      <td>0.00</td>\n",
       "      <td>2017-02-01</td>\n",
       "      <td>07:48:48</td>\n",
       "    </tr>\n",
       "    <tr>\n",
       "      <th>4</th>\n",
       "      <td>0</td>\n",
       "      <td>26.90</td>\n",
       "      <td>1</td>\n",
       "      <td>549</td>\n",
       "      <td>0.003769</td>\n",
       "      <td>8.586333</td>\n",
       "      <td>0.001192</td>\n",
       "      <td>45.368313</td>\n",
       "      <td>52.076034</td>\n",
       "      <td>1</td>\n",
       "      <td>1</td>\n",
       "      <td>1.997106</td>\n",
       "      <td>4.0</td>\n",
       "      <td>4.0</td>\n",
       "      <td>59.15</td>\n",
       "      <td>32.25</td>\n",
       "      <td>2017-02-01</td>\n",
       "      <td>08:13:27</td>\n",
       "    </tr>\n",
       "  </tbody>\n",
       "</table>\n",
       "</div>"
      ],
      "text/plain": [
       "   FlagImpaye  Montant CodeDecision  D2CB  ScoringFP1  ScoringFP2  ScoringFP3  \\\n",
       "0           0    20.00            1   551    0.000000    0.000000    0.000000   \n",
       "1           0    20.00            1   551    0.000000    0.000000    0.000000   \n",
       "2           0    57.64            1   549    0.000000    0.000000    0.000000   \n",
       "3           0    54.29            0   267    0.000000    0.000000    0.000000   \n",
       "4           0    26.90            1   549    0.003769    8.586333    0.001192   \n",
       "\n",
       "   TauxImpNb_RB  TauxImpNB_CPM  EcartNumCheq  NbrMagasin3J  DiffDateTr1  \\\n",
       "0     37.186668      52.076034             0             1     4.000000   \n",
       "1     48.844716      52.076034             1             2     1.797685   \n",
       "2     73.118280      52.076034             0             1     4.000000   \n",
       "3    110.056926      53.554234             0             1     4.000000   \n",
       "4     45.368313      52.076034             1             1     1.997106   \n",
       "\n",
       "   DiffDateTr2  DiffDateTr3  CA3TRetMtt  CA3TR        Date     Heure  \n",
       "0          4.0          4.0       20.00   0.00  2017-02-01  07:32:14  \n",
       "1          4.0          4.0       28.61   8.61  2017-02-01  07:43:37  \n",
       "2          4.0          4.0       57.64   0.00  2017-02-01  07:47:38  \n",
       "3          4.0          4.0       54.29   0.00  2017-02-01  07:48:48  \n",
       "4          4.0          4.0       59.15  32.25  2017-02-01  08:13:27  "
      ]
     },
     "execution_count": 5,
     "metadata": {},
     "output_type": "execute_result"
    }
   ],
   "source": [
    "dfTrain = df.loc[df['Date'] <= '2017-08-31']\n",
    "dfTest = df.loc[df['Date'] >= '2017-09-01']\n",
    "dfTrain.head()"
   ]
  },
  {
   "cell_type": "markdown",
   "id": "e99baddf",
   "metadata": {},
   "source": [
    "## III. Définir la variable cible (y) et les variables explicatives (X)"
   ]
  },
  {
   "cell_type": "code",
   "execution_count": 6,
   "id": "5d2f4f61",
   "metadata": {},
   "outputs": [],
   "source": [
    "# Définir la variable cible \n",
    "yTrain = dfTrain[\"FlagImpaye\"]\n",
    "yTest = dfTest[\"FlagImpaye\"]"
   ]
  },
  {
   "cell_type": "code",
   "execution_count": 7,
   "id": "78425a89",
   "metadata": {},
   "outputs": [],
   "source": [
    "# Définir les variables explicatives \n",
    "XTrain = dfTrain.drop([\"FlagImpaye\", \"Date\", \"Heure\"], axis = \"columns\")\n",
    "XTest = dfTest.drop([\"FlagImpaye\", \"Date\", \"Heure\"], axis = \"columns\")"
   ]
  },
  {
   "cell_type": "markdown",
   "id": "c9826b82",
   "metadata": {},
   "source": [
    "## IV. Recodage de la variable \"CodeDecision\" dans les varaibles explicatives\n",
    "- Rmq : La variable qualitative \"CodeDecision\" possède les modalités 0, 1, 2 et 3 dans dfTrain et les modalités 0, 2 et 3 dans dfTest. \n",
    "- Notre stratégie est la suivante : \n",
    "    1. Recodage de la variable \"CodeDecision\" dans les variables explicatives XTrain et XTest.\n",
    "    2. Comme la variable \"CodeDecision_1\" n'est présente que dans XTrain, elle devient inutile. Nous décidons donc de la supprimer."
   ]
  },
  {
   "cell_type": "code",
   "execution_count": 8,
   "id": "dc243f71",
   "metadata": {},
   "outputs": [
    {
     "name": "stdout",
     "output_type": "stream",
     "text": [
      "Dans le dataframe d'apprentissage :\n",
      "0    2760391\n",
      "1    1121626\n",
      "2      15138\n",
      "3       2207\n",
      "Name: CodeDecision, dtype: int64\n",
      "-------------------------------------------------------\n",
      "Dans le dataframe de test :\n",
      "0    742395\n",
      "2      4424\n",
      "3       591\n",
      "Name: CodeDecision, dtype: int64\n"
     ]
    }
   ],
   "source": [
    "# Exposition du problème \n",
    "print(\"Dans le dataframe d'apprentissage :\")\n",
    "print(dfTrain['CodeDecision'].value_counts().compute())\n",
    "print(\"-------------------------------------------------------\")\n",
    "print(\"Dans le dataframe de test :\")\n",
    "print(dfTest['CodeDecision'].value_counts().compute())"
   ]
  },
  {
   "cell_type": "code",
   "execution_count": 9,
   "id": "31b54215",
   "metadata": {},
   "outputs": [
    {
     "data": {
      "text/html": [
       "<div>\n",
       "<style scoped>\n",
       "    .dataframe tbody tr th:only-of-type {\n",
       "        vertical-align: middle;\n",
       "    }\n",
       "\n",
       "    .dataframe tbody tr th {\n",
       "        vertical-align: top;\n",
       "    }\n",
       "\n",
       "    .dataframe thead th {\n",
       "        text-align: right;\n",
       "    }\n",
       "</style>\n",
       "<table border=\"1\" class=\"dataframe\">\n",
       "  <thead>\n",
       "    <tr style=\"text-align: right;\">\n",
       "      <th></th>\n",
       "      <th>Montant</th>\n",
       "      <th>D2CB</th>\n",
       "      <th>ScoringFP1</th>\n",
       "      <th>ScoringFP2</th>\n",
       "      <th>ScoringFP3</th>\n",
       "      <th>TauxImpNb_RB</th>\n",
       "      <th>TauxImpNB_CPM</th>\n",
       "      <th>EcartNumCheq</th>\n",
       "      <th>NbrMagasin3J</th>\n",
       "      <th>DiffDateTr1</th>\n",
       "      <th>DiffDateTr2</th>\n",
       "      <th>DiffDateTr3</th>\n",
       "      <th>CA3TRetMtt</th>\n",
       "      <th>CA3TR</th>\n",
       "      <th>CodeDecision_0</th>\n",
       "      <th>CodeDecision_2</th>\n",
       "      <th>CodeDecision_3</th>\n",
       "    </tr>\n",
       "  </thead>\n",
       "  <tbody>\n",
       "    <tr>\n",
       "      <th>0</th>\n",
       "      <td>20.00</td>\n",
       "      <td>551</td>\n",
       "      <td>0.000000</td>\n",
       "      <td>0.000000</td>\n",
       "      <td>0.000000</td>\n",
       "      <td>37.186668</td>\n",
       "      <td>52.076034</td>\n",
       "      <td>0</td>\n",
       "      <td>1</td>\n",
       "      <td>4.000000</td>\n",
       "      <td>4.0</td>\n",
       "      <td>4.0</td>\n",
       "      <td>20.00</td>\n",
       "      <td>0.00</td>\n",
       "      <td>0</td>\n",
       "      <td>0</td>\n",
       "      <td>0</td>\n",
       "    </tr>\n",
       "    <tr>\n",
       "      <th>1</th>\n",
       "      <td>20.00</td>\n",
       "      <td>551</td>\n",
       "      <td>0.000000</td>\n",
       "      <td>0.000000</td>\n",
       "      <td>0.000000</td>\n",
       "      <td>48.844716</td>\n",
       "      <td>52.076034</td>\n",
       "      <td>1</td>\n",
       "      <td>2</td>\n",
       "      <td>1.797685</td>\n",
       "      <td>4.0</td>\n",
       "      <td>4.0</td>\n",
       "      <td>28.61</td>\n",
       "      <td>8.61</td>\n",
       "      <td>0</td>\n",
       "      <td>0</td>\n",
       "      <td>0</td>\n",
       "    </tr>\n",
       "    <tr>\n",
       "      <th>2</th>\n",
       "      <td>57.64</td>\n",
       "      <td>549</td>\n",
       "      <td>0.000000</td>\n",
       "      <td>0.000000</td>\n",
       "      <td>0.000000</td>\n",
       "      <td>73.118280</td>\n",
       "      <td>52.076034</td>\n",
       "      <td>0</td>\n",
       "      <td>1</td>\n",
       "      <td>4.000000</td>\n",
       "      <td>4.0</td>\n",
       "      <td>4.0</td>\n",
       "      <td>57.64</td>\n",
       "      <td>0.00</td>\n",
       "      <td>0</td>\n",
       "      <td>0</td>\n",
       "      <td>0</td>\n",
       "    </tr>\n",
       "    <tr>\n",
       "      <th>3</th>\n",
       "      <td>54.29</td>\n",
       "      <td>267</td>\n",
       "      <td>0.000000</td>\n",
       "      <td>0.000000</td>\n",
       "      <td>0.000000</td>\n",
       "      <td>110.056926</td>\n",
       "      <td>53.554234</td>\n",
       "      <td>0</td>\n",
       "      <td>1</td>\n",
       "      <td>4.000000</td>\n",
       "      <td>4.0</td>\n",
       "      <td>4.0</td>\n",
       "      <td>54.29</td>\n",
       "      <td>0.00</td>\n",
       "      <td>1</td>\n",
       "      <td>0</td>\n",
       "      <td>0</td>\n",
       "    </tr>\n",
       "    <tr>\n",
       "      <th>4</th>\n",
       "      <td>26.90</td>\n",
       "      <td>549</td>\n",
       "      <td>0.003769</td>\n",
       "      <td>8.586333</td>\n",
       "      <td>0.001192</td>\n",
       "      <td>45.368313</td>\n",
       "      <td>52.076034</td>\n",
       "      <td>1</td>\n",
       "      <td>1</td>\n",
       "      <td>1.997106</td>\n",
       "      <td>4.0</td>\n",
       "      <td>4.0</td>\n",
       "      <td>59.15</td>\n",
       "      <td>32.25</td>\n",
       "      <td>0</td>\n",
       "      <td>0</td>\n",
       "      <td>0</td>\n",
       "    </tr>\n",
       "  </tbody>\n",
       "</table>\n",
       "</div>"
      ],
      "text/plain": [
       "   Montant  D2CB  ScoringFP1  ScoringFP2  ScoringFP3  TauxImpNb_RB  \\\n",
       "0    20.00   551    0.000000    0.000000    0.000000     37.186668   \n",
       "1    20.00   551    0.000000    0.000000    0.000000     48.844716   \n",
       "2    57.64   549    0.000000    0.000000    0.000000     73.118280   \n",
       "3    54.29   267    0.000000    0.000000    0.000000    110.056926   \n",
       "4    26.90   549    0.003769    8.586333    0.001192     45.368313   \n",
       "\n",
       "   TauxImpNB_CPM  EcartNumCheq  NbrMagasin3J  DiffDateTr1  DiffDateTr2  \\\n",
       "0      52.076034             0             1     4.000000          4.0   \n",
       "1      52.076034             1             2     1.797685          4.0   \n",
       "2      52.076034             0             1     4.000000          4.0   \n",
       "3      53.554234             0             1     4.000000          4.0   \n",
       "4      52.076034             1             1     1.997106          4.0   \n",
       "\n",
       "   DiffDateTr3  CA3TRetMtt  CA3TR  CodeDecision_0  CodeDecision_2  \\\n",
       "0          4.0       20.00   0.00               0               0   \n",
       "1          4.0       28.61   8.61               0               0   \n",
       "2          4.0       57.64   0.00               0               0   \n",
       "3          4.0       54.29   0.00               1               0   \n",
       "4          4.0       59.15  32.25               0               0   \n",
       "\n",
       "   CodeDecision_3  \n",
       "0               0  \n",
       "1               0  \n",
       "2               0  \n",
       "3               0  \n",
       "4               0  "
      ]
     },
     "execution_count": 9,
     "metadata": {},
     "output_type": "execute_result"
    }
   ],
   "source": [
    "# 1) Recodage de la variable \"CodeDecision\" dans les variables explicatives \n",
    "XTrain_ok = dd.get_dummies(XTrain.categorize(), prefix=['CodeDecision'])\n",
    "XTest_ok = dd.get_dummies(XTest.categorize(), prefix=['CodeDecision'])\n",
    "\n",
    "# 2) Supprimer la variable \"CodeDecision_1\" de dfTrain\n",
    "XTrain_ok = XTrain_ok.drop([\"CodeDecision_1\"], axis = \"columns\")\n",
    "XTrain_ok.head()"
   ]
  },
  {
   "cell_type": "markdown",
   "id": "d72e388e",
   "metadata": {},
   "source": [
    "## IV. Centrer-réduire les données"
   ]
  },
  {
   "cell_type": "code",
   "execution_count": 14,
   "id": "b9334e10",
   "metadata": {},
   "outputs": [
    {
     "data": {
      "text/html": [
       "<div>\n",
       "<style scoped>\n",
       "    .dataframe tbody tr th:only-of-type {\n",
       "        vertical-align: middle;\n",
       "    }\n",
       "\n",
       "    .dataframe tbody tr th {\n",
       "        vertical-align: top;\n",
       "    }\n",
       "\n",
       "    .dataframe thead th {\n",
       "        text-align: right;\n",
       "    }\n",
       "</style>\n",
       "<table border=\"1\" class=\"dataframe\">\n",
       "  <thead>\n",
       "    <tr style=\"text-align: right;\">\n",
       "      <th></th>\n",
       "      <th>Montant</th>\n",
       "      <th>D2CB</th>\n",
       "      <th>ScoringFP1</th>\n",
       "      <th>ScoringFP2</th>\n",
       "      <th>ScoringFP3</th>\n",
       "      <th>TauxImpNb_RB</th>\n",
       "      <th>TauxImpNB_CPM</th>\n",
       "      <th>EcartNumCheq</th>\n",
       "      <th>NbrMagasin3J</th>\n",
       "      <th>DiffDateTr1</th>\n",
       "      <th>DiffDateTr2</th>\n",
       "      <th>DiffDateTr3</th>\n",
       "      <th>CA3TRetMtt</th>\n",
       "      <th>CA3TR</th>\n",
       "      <th>CodeDecision_0</th>\n",
       "      <th>CodeDecision_2</th>\n",
       "      <th>CodeDecision_3</th>\n",
       "    </tr>\n",
       "  </thead>\n",
       "  <tbody>\n",
       "    <tr>\n",
       "      <th>0</th>\n",
       "      <td>-0.420302</td>\n",
       "      <td>1.017656</td>\n",
       "      <td>-0.084590</td>\n",
       "      <td>-0.239505</td>\n",
       "      <td>-0.275801</td>\n",
       "      <td>-0.030212</td>\n",
       "      <td>0.818043</td>\n",
       "      <td>-0.043817</td>\n",
       "      <td>-0.194165</td>\n",
       "      <td>0.135329</td>\n",
       "      <td>-0.301229</td>\n",
       "      <td>-0.451325</td>\n",
       "      <td>-0.455513</td>\n",
       "      <td>-0.202861</td>\n",
       "      <td>-1.556786</td>\n",
       "      <td>-0.062428</td>\n",
       "      <td>-0.023797</td>\n",
       "    </tr>\n",
       "    <tr>\n",
       "      <th>1</th>\n",
       "      <td>-0.420302</td>\n",
       "      <td>1.017656</td>\n",
       "      <td>-0.084590</td>\n",
       "      <td>-0.239505</td>\n",
       "      <td>-0.275801</td>\n",
       "      <td>0.162138</td>\n",
       "      <td>0.818043</td>\n",
       "      <td>-0.043812</td>\n",
       "      <td>4.975724</td>\n",
       "      <td>-1.945875</td>\n",
       "      <td>-0.301229</td>\n",
       "      <td>-0.451325</td>\n",
       "      <td>-0.371994</td>\n",
       "      <td>0.038808</td>\n",
       "      <td>-1.556786</td>\n",
       "      <td>-0.062428</td>\n",
       "      <td>-0.023797</td>\n",
       "    </tr>\n",
       "    <tr>\n",
       "      <th>2</th>\n",
       "      <td>-0.022127</td>\n",
       "      <td>1.008573</td>\n",
       "      <td>-0.084590</td>\n",
       "      <td>-0.239505</td>\n",
       "      <td>-0.275801</td>\n",
       "      <td>0.562636</td>\n",
       "      <td>0.818043</td>\n",
       "      <td>-0.043817</td>\n",
       "      <td>-0.194165</td>\n",
       "      <td>0.135329</td>\n",
       "      <td>-0.301229</td>\n",
       "      <td>-0.451325</td>\n",
       "      <td>-0.090397</td>\n",
       "      <td>-0.202861</td>\n",
       "      <td>-1.556786</td>\n",
       "      <td>-0.062428</td>\n",
       "      <td>-0.023797</td>\n",
       "    </tr>\n",
       "    <tr>\n",
       "      <th>3</th>\n",
       "      <td>-0.057565</td>\n",
       "      <td>-0.272152</td>\n",
       "      <td>-0.084590</td>\n",
       "      <td>-0.239505</td>\n",
       "      <td>-0.275801</td>\n",
       "      <td>1.172099</td>\n",
       "      <td>0.906727</td>\n",
       "      <td>-0.043817</td>\n",
       "      <td>-0.194165</td>\n",
       "      <td>0.135329</td>\n",
       "      <td>-0.301229</td>\n",
       "      <td>-0.451325</td>\n",
       "      <td>-0.122893</td>\n",
       "      <td>-0.202861</td>\n",
       "      <td>0.642349</td>\n",
       "      <td>-0.062428</td>\n",
       "      <td>-0.023797</td>\n",
       "    </tr>\n",
       "    <tr>\n",
       "      <th>4</th>\n",
       "      <td>-0.347310</td>\n",
       "      <td>1.008573</td>\n",
       "      <td>-0.084434</td>\n",
       "      <td>0.637044</td>\n",
       "      <td>-0.273204</td>\n",
       "      <td>0.104780</td>\n",
       "      <td>0.818043</td>\n",
       "      <td>-0.043812</td>\n",
       "      <td>-0.194165</td>\n",
       "      <td>-1.757421</td>\n",
       "      <td>-0.301229</td>\n",
       "      <td>-0.451325</td>\n",
       "      <td>-0.075750</td>\n",
       "      <td>0.702346</td>\n",
       "      <td>-1.556786</td>\n",
       "      <td>-0.062428</td>\n",
       "      <td>-0.023797</td>\n",
       "    </tr>\n",
       "  </tbody>\n",
       "</table>\n",
       "</div>"
      ],
      "text/plain": [
       "    Montant      D2CB  ScoringFP1  ScoringFP2  ScoringFP3  TauxImpNb_RB  \\\n",
       "0 -0.420302  1.017656   -0.084590   -0.239505   -0.275801     -0.030212   \n",
       "1 -0.420302  1.017656   -0.084590   -0.239505   -0.275801      0.162138   \n",
       "2 -0.022127  1.008573   -0.084590   -0.239505   -0.275801      0.562636   \n",
       "3 -0.057565 -0.272152   -0.084590   -0.239505   -0.275801      1.172099   \n",
       "4 -0.347310  1.008573   -0.084434    0.637044   -0.273204      0.104780   \n",
       "\n",
       "   TauxImpNB_CPM  EcartNumCheq  NbrMagasin3J  DiffDateTr1  DiffDateTr2  \\\n",
       "0       0.818043     -0.043817     -0.194165     0.135329    -0.301229   \n",
       "1       0.818043     -0.043812      4.975724    -1.945875    -0.301229   \n",
       "2       0.818043     -0.043817     -0.194165     0.135329    -0.301229   \n",
       "3       0.906727     -0.043817     -0.194165     0.135329    -0.301229   \n",
       "4       0.818043     -0.043812     -0.194165    -1.757421    -0.301229   \n",
       "\n",
       "   DiffDateTr3  CA3TRetMtt     CA3TR  CodeDecision_0  CodeDecision_2  \\\n",
       "0    -0.451325   -0.455513 -0.202861       -1.556786       -0.062428   \n",
       "1    -0.451325   -0.371994  0.038808       -1.556786       -0.062428   \n",
       "2    -0.451325   -0.090397 -0.202861       -1.556786       -0.062428   \n",
       "3    -0.451325   -0.122893 -0.202861        0.642349       -0.062428   \n",
       "4    -0.451325   -0.075750  0.702346       -1.556786       -0.062428   \n",
       "\n",
       "   CodeDecision_3  \n",
       "0       -0.023797  \n",
       "1       -0.023797  \n",
       "2       -0.023797  \n",
       "3       -0.023797  \n",
       "4       -0.023797  "
      ]
     },
     "execution_count": 14,
     "metadata": {},
     "output_type": "execute_result"
    }
   ],
   "source": [
    "# Instanciation de StandardScaler pour centrer réduire les données\n",
    "scaler = StandardScaler()\n",
    "\n",
    "XTrain_ok_scale = scaler.fit_transform(XTrain_ok)\n",
    "XTest_ok_scale = scaler.fit_transform(XTest_ok)\n",
    "XTrain_ok_scale.head()"
   ]
  },
  {
   "cell_type": "markdown",
   "id": "4dd5979d",
   "metadata": {},
   "source": [
    "## V. Algorithmes"
   ]
  },
  {
   "cell_type": "code",
   "execution_count": 10,
   "id": "e8d92909",
   "metadata": {},
   "outputs": [],
   "source": [
    "def Calcul_CA(Montant, yReel, yPred):\n",
    "    # Création de dfmerge\n",
    "    dfmerge = pd.concat([Montant, yReel], axis=1)\n",
    "    dfmerge[\"Ypred\"] = yPred\n",
    "    \n",
    "    # Création de la variable CA\n",
    "    dfmerge[\"CA\"] = dfmerge[\"Montant\"]\n",
    "    dfmerge.loc[((dfmerge[\"FlagImpaye\"] == 1) & (dfmerge[\"Ypred\"] == 1)), \"CA\"] = 0\n",
    "    dfmerge.loc[((dfmerge[\"FlagImpaye\"] == 0) & (dfmerge[\"Ypred\"] == 1)), \"CA\"] = 0.8 * dfmerge[\"Montant\"]\n",
    "    dfmerge.loc[((dfmerge[\"FlagImpaye\"] == 1) & (dfmerge[\"Ypred\"] == 0)), \"CA\"] = 1 - np.exp(1/dfmerge[\"Montant\"])\n",
    "    \n",
    "    # Calcul du CA_total\n",
    "    CA_total = dfmerge[\"CA\"].sum()\n",
    "    \n",
    "    return CA_total"
   ]
  },
  {
   "cell_type": "code",
   "execution_count": 19,
   "id": "a58e6578",
   "metadata": {},
   "outputs": [],
   "source": [
    "\"\"\"Création de la fonction de déploiement d'un modèle sur les données de test\"\"\"\n",
    "\n",
    "def deploiement(modele, XTest, yTest, scale):\n",
    "    XTest_ = XTest\n",
    "    \n",
    "    scaler = StandardScaler()\n",
    "    \n",
    "    if scale == True:\n",
    "        XTest = scaler.fit_transform(XTest)\n",
    "    \n",
    "    print(\"-------------------------------------------------------\")\n",
    "    # Importation du modèle \n",
    "    fichier = open(modele, \"rb\")\n",
    "    mdl = pickle.load(fichier)\n",
    "    fichier.close()\n",
    "    \n",
    "    # Affichage du modèle \n",
    "    print('Modèle :\\n', mdl)\n",
    "    print(\"-------------------------------------------------------\")\n",
    "    # Prédiction\n",
    "    Ypred = delayed(mdl.predict)(XTest).compute()\n",
    "    # Prédiction des scores\n",
    "    Yscore = delayed(mdl.predict_proba)(XTest).compute()\n",
    "    \n",
    "    \n",
    "    # Estimateurs, matrice de confusion et AUC\n",
    "    cm = delayed(confusion_matrix)(yTest, Ypred)\n",
    "    cr = delayed(classification_report)(yTest, Ypred)\n",
    "    auc = delayed(roc_auc_score)(yTest, Ypred)\n",
    "\n",
    "    print('Estimateurs :\\n', cr.compute())\n",
    "    print(\"-------------------------------------------------------\")\n",
    "    print('Matrice de confusion :\\n', cm.compute())\n",
    "    print(\"-------------------------------------------------------\")\n",
    "    print('Auc Score :\\n', auc.compute())\n",
    "    print(\"-------------------------------------------------------\")\n",
    "    \n",
    "    # BONUS :  Calcul du chiffre d'affaire\n",
    "    CA_total = Calcul_CA(Montant = XTest_[\"Montant\"].compute(), yReel = yTest.compute(), yPred = Ypred)\n",
    "    print(\"Chiffre d'affaire = \" + str(round(CA_total, 2)) + \" euros\")\n",
    "    print(\"-------------------------------------------------------\")\n",
    "\n",
    "    # Courbe ROC\n",
    "    skplt.metrics.plot_roc(yTest, Yscore, classes_to_plot = 1, plot_micro = False, plot_macro = False)\n",
    "    # Courbe Précision-Rappel\n",
    "    skplt.metrics.plot_precision_recall(yTest, Yscore, classes_to_plot = 1, plot_micro = False)\n",
    "    return CA_total"
   ]
  },
  {
   "cell_type": "markdown",
   "id": "22c83cba",
   "metadata": {},
   "source": [
    "### -------- Algorithme n°1 : Arbre de décision --------"
   ]
  },
  {
   "cell_type": "markdown",
   "id": "0dfc18f3",
   "metadata": {},
   "source": [
    "### a. Création, entrainement et exportation du modele"
   ]
  },
  {
   "cell_type": "code",
   "execution_count": 12,
   "id": "7e185fe7",
   "metadata": {},
   "outputs": [],
   "source": [
    "# Instanciation \n",
    "dtree = DecisionTreeClassifier(random_state = 0)\n",
    "\n",
    "# Structure de l'entrainement\n",
    "delayed_fit = delayed(dtree.fit)(XTrain_ok, yTrain)"
   ]
  },
  {
   "cell_type": "code",
   "execution_count": 13,
   "id": "0574461c",
   "metadata": {},
   "outputs": [
    {
     "name": "stdout",
     "output_type": "stream",
     "text": [
      "DecisionTreeClassifier(random_state=0)\n"
     ]
    }
   ],
   "source": [
    "# Création du modèle entrainé \n",
    "model_fit = delayed_fit.compute()\n",
    "print(model_fit)"
   ]
  },
  {
   "cell_type": "code",
   "execution_count": 14,
   "id": "5c4b4d3f",
   "metadata": {},
   "outputs": [],
   "source": [
    "# Exportation du modèle \n",
    "f = open(\"modele1.sav\", \"wb\")\n",
    "pickle.dump(model_fit, f)\n",
    "f.close()"
   ]
  },
  {
   "cell_type": "markdown",
   "id": "061dd2b2",
   "metadata": {},
   "source": [
    "### b. Déploiement du modèle "
   ]
  },
  {
   "cell_type": "code",
   "execution_count": 40,
   "id": "a7c39cb2",
   "metadata": {},
   "outputs": [
    {
     "name": "stdout",
     "output_type": "stream",
     "text": [
      "-------------------------------------------------------\n",
      "Modèle :\n",
      " DecisionTreeClassifier(random_state=0)\n",
      "-------------------------------------------------------\n",
      "Estimateurs :\n",
      "               precision    recall  f1-score   support\n",
      "\n",
      "           0       1.00      1.00      1.00    740837\n",
      "           1       0.63      0.68      0.65      6573\n",
      "\n",
      "    accuracy                           0.99    747410\n",
      "   macro avg       0.81      0.84      0.83    747410\n",
      "weighted avg       0.99      0.99      0.99    747410\n",
      "\n",
      "-------------------------------------------------------\n",
      "Matrice de confusion :\n",
      " [[738224   2613]\n",
      " [  2103   4470]]\n",
      "-------------------------------------------------------\n",
      "Auc Score :\n",
      " 0.8382638389285995\n",
      "-------------------------------------------------------\n",
      "Chiffre d'affaire = 45829870.8 euros\n",
      "-------------------------------------------------------\n"
     ]
    },
    {
     "data": {
      "image/png": "[encoded data removed]",
      "text/plain": [
       "<Figure size 432x288 with 1 Axes>"
      ]
     },
     "metadata": {
      "needs_background": "light"
     },
     "output_type": "display_data"
    },
    {
     "data": {
      "image/png": "[encoded data removed]",
      "text/plain": [
       "<Figure size 432x288 with 1 Axes>"
      ]
     },
     "metadata": {
      "needs_background": "light"
     },
     "output_type": "display_data"
    }
   ],
   "source": [
    "dep1 = deploiement(modele = \"modele1.sav\", XTest = XTest_ok, yTest = yTest, scale = False)"
   ]
  },
  {
   "cell_type": "markdown",
   "id": "109210d6",
   "metadata": {},
   "source": [
    "### -------- Algorithme n°2 : RandomForest --------"
   ]
  },
  {
   "cell_type": "markdown",
   "id": "0602025a",
   "metadata": {},
   "source": [
    "### a. Création, entrainement et exportation du modele"
   ]
  },
  {
   "cell_type": "code",
   "execution_count": 16,
   "id": "dacb52b8",
   "metadata": {},
   "outputs": [],
   "source": [
    "# Instanciation \n",
    "RandomForest = RandomForestClassifier(n_estimators = 10, random_state = 0)\n",
    "\n",
    "# Structure de l'entrainement\n",
    "delayed_fit = delayed(RandomForest.fit)(XTrain_ok, yTrain)"
   ]
  },
  {
   "cell_type": "code",
   "execution_count": 17,
   "id": "acb9987b",
   "metadata": {},
   "outputs": [
    {
     "name": "stdout",
     "output_type": "stream",
     "text": [
      "RandomForestClassifier(n_estimators=10, random_state=0)\n"
     ]
    }
   ],
   "source": [
    "# Création du modèle entrainé \n",
    "model_fit = delayed_fit.compute()\n",
    "print(model_fit)"
   ]
  },
  {
   "cell_type": "code",
   "execution_count": 18,
   "id": "890b90d2",
   "metadata": {},
   "outputs": [],
   "source": [
    "# Exportation du modèle \n",
    "f = open(\"modele2.sav\", \"wb\")\n",
    "pickle.dump(model_fit, f)\n",
    "f.close()"
   ]
  },
  {
   "cell_type": "markdown",
   "id": "7d67d7bb",
   "metadata": {},
   "source": [
    "### b. Déploiement du modèle"
   ]
  },
  {
   "cell_type": "code",
   "execution_count": 22,
   "id": "2ee119c3",
   "metadata": {},
   "outputs": [
    {
     "name": "stdout",
     "output_type": "stream",
     "text": [
      "-------------------------------------------------------\n",
      "Modèle :\n",
      " RandomForestClassifier(n_estimators=10, random_state=0)\n",
      "-------------------------------------------------------\n",
      "Estimateurs :\n",
      "               precision    recall  f1-score   support\n",
      "\n",
      "           0       1.00      1.00      1.00    740837\n",
      "           1       0.98      0.67      0.80      6573\n",
      "\n",
      "    accuracy                           1.00    747410\n",
      "   macro avg       0.99      0.83      0.90    747410\n",
      "weighted avg       1.00      1.00      1.00    747410\n",
      "\n",
      "-------------------------------------------------------\n",
      "Matrice de confusion :\n",
      " [[740748     89]\n",
      " [  2177   4396]]\n",
      "-------------------------------------------------------\n",
      "Auc Score :\n",
      " 0.8343382288653698\n",
      "-------------------------------------------------------\n",
      "Chiffre d'affaire = 45884788.83 euros\n",
      "-------------------------------------------------------\n"
     ]
    },
    {
     "data": {
      "image/png": "[encoded data removed]",
      "text/plain": [
       "<Figure size 432x288 with 1 Axes>"
      ]
     },
     "metadata": {
      "needs_background": "light"
     },
     "output_type": "display_data"
    },
    {
     "data": {
      "image/png": "[encoded data removed]",
      "text/plain": [
       "<Figure size 432x288 with 1 Axes>"
      ]
     },
     "metadata": {
      "needs_background": "light"
     },
     "output_type": "display_data"
    }
   ],
   "source": [
    "dep2 = deploiement(modele = \"modele2.sav\", XTest = XTest_ok, yTest = yTest, scale = False)"
   ]
  },
  {
   "cell_type": "markdown",
   "id": "7e42f6fe",
   "metadata": {},
   "source": [
    "### -------- Algorithme n°3 : Régression logistique \"simple\" --------\n",
    "Régression logistique \"simple\" sur les données centrées-réduites."
   ]
  },
  {
   "cell_type": "markdown",
   "id": "940b5ff9",
   "metadata": {},
   "source": [
    "### a. Création, entrainement et exportation du modele"
   ]
  },
  {
   "cell_type": "code",
   "execution_count": 15,
   "id": "594eec1f",
   "metadata": {},
   "outputs": [],
   "source": [
    "# Instanciation \n",
    "clf = LogisticRegression(random_state=0)\n",
    "\n",
    "# Structure de l'entrainement\n",
    "delayed_fit = delayed(clf.fit)(XTrain_ok_scale, yTrain)"
   ]
  },
  {
   "cell_type": "code",
   "execution_count": 16,
   "id": "d3d143f0",
   "metadata": {},
   "outputs": [
    {
     "name": "stdout",
     "output_type": "stream",
     "text": [
      "LogisticRegression(random_state=0)\n"
     ]
    }
   ],
   "source": [
    "# Création du modèle entrainé \n",
    "model_fit = delayed_fit.compute()\n",
    "print(model_fit)"
   ]
  },
  {
   "cell_type": "code",
   "execution_count": 17,
   "id": "a0376f58",
   "metadata": {},
   "outputs": [],
   "source": [
    "# Exportation du modèle \n",
    "f = open(\"modele3.sav\", \"wb\")\n",
    "pickle.dump(model_fit, f)\n",
    "f.close()"
   ]
  },
  {
   "cell_type": "markdown",
   "id": "2259a03d",
   "metadata": {},
   "source": [
    "### b. Déploiement du modèle"
   ]
  },
  {
   "cell_type": "code",
   "execution_count": 20,
   "id": "1c7315da",
   "metadata": {},
   "outputs": [
    {
     "name": "stdout",
     "output_type": "stream",
     "text": [
      "-------------------------------------------------------\n",
      "Modèle :\n",
      " LogisticRegression(random_state=0)\n",
      "-------------------------------------------------------\n",
      "Estimateurs :\n",
      "               precision    recall  f1-score   support\n",
      "\n",
      "           0       0.99      1.00      1.00    740837\n",
      "           1       0.88      0.01      0.02      6573\n",
      "\n",
      "    accuracy                           0.99    747410\n",
      "   macro avg       0.94      0.51      0.51    747410\n",
      "weighted avg       0.99      0.99      0.99    747410\n",
      "\n",
      "-------------------------------------------------------\n",
      "Matrice de confusion :\n",
      " [[740826     11]\n",
      " [  6491     82]]\n",
      "-------------------------------------------------------\n",
      "Auc Score :\n",
      " 0.5062302147902517\n",
      "-------------------------------------------------------\n",
      "Chiffre d'affaire = 45871402.78 euros\n",
      "-------------------------------------------------------\n"
     ]
    },
    {
     "data": {
      "image/png": "[encoded data removed]",
      "text/plain": [
       "<Figure size 432x288 with 1 Axes>"
      ]
     },
     "metadata": {
      "needs_background": "light"
     },
     "output_type": "display_data"
    },
    {
     "data": {
      "image/png": "[encoded data removed]",
      "text/plain": [
       "<Figure size 432x288 with 1 Axes>"
      ]
     },
     "metadata": {
      "needs_background": "light"
     },
     "output_type": "display_data"
    }
   ],
   "source": [
    "dep3 = deploiement(modele = \"modele3.sav\", XTest = XTest_ok, yTest = yTest, scale = True)"
   ]
  },
  {
   "cell_type": "markdown",
   "id": "60e3d246",
   "metadata": {},
   "source": [
    "### -------- Algorithme n°4 : Régression logistique avec le solveur 'saga' --------\n",
    "Régression logistique avec le solveur 'saga', recommandé pour les grands jeux de données."
   ]
  },
  {
   "cell_type": "markdown",
   "id": "577137c5",
   "metadata": {},
   "source": [
    "### a. Création, entrainement et exportation du modele"
   ]
  },
  {
   "cell_type": "code",
   "execution_count": 23,
   "id": "3fe4b828",
   "metadata": {},
   "outputs": [],
   "source": [
    "# Instanciation \n",
    "clf = LogisticRegression(random_state=0, solver='saga')\n",
    "\n",
    "# Structure de l'entrainement\n",
    "delayed_fit = delayed(clf.fit)(XTrain_ok_scale, yTrain)"
   ]
  },
  {
   "cell_type": "code",
   "execution_count": 24,
   "id": "3b22087e",
   "metadata": {},
   "outputs": [
    {
     "name": "stdout",
     "output_type": "stream",
     "text": [
      "LogisticRegression(random_state=0, solver='saga')\n"
     ]
    },
    {
     "name": "stderr",
     "output_type": "stream",
     "text": [
      "/home/elisa/anaconda3/lib/python3.8/site-packages/sklearn/linear_model/_sag.py:352: ConvergenceWarning: The max_iter was reached which means the coef_ did not converge\n",
      "  warnings.warn(\n"
     ]
    }
   ],
   "source": [
    "# Création du modèle entrainé \n",
    "model_fit = delayed_fit.compute()\n",
    "print(model_fit)"
   ]
  },
  {
   "cell_type": "code",
   "execution_count": 25,
   "id": "e2b0bff5",
   "metadata": {},
   "outputs": [],
   "source": [
    "# Exportation du modèle \n",
    "f = open(\"modele4.sav\", \"wb\")\n",
    "pickle.dump(model_fit, f)\n",
    "f.close()"
   ]
  },
  {
   "cell_type": "markdown",
   "id": "21464a33",
   "metadata": {},
   "source": [
    "### b. Déploiement du modèle"
   ]
  },
  {
   "cell_type": "code",
   "execution_count": 26,
   "id": "4c7b3c7f",
   "metadata": {},
   "outputs": [
    {
     "name": "stdout",
     "output_type": "stream",
     "text": [
      "-------------------------------------------------------\n",
      "Modèle :\n",
      " LogisticRegression(random_state=0, solver='saga')\n",
      "-------------------------------------------------------\n",
      "Estimateurs :\n",
      "               precision    recall  f1-score   support\n",
      "\n",
      "           0       1.00      1.00      1.00    740837\n",
      "           1       0.96      0.65      0.78      6573\n",
      "\n",
      "    accuracy                           1.00    747410\n",
      "   macro avg       0.98      0.82      0.89    747410\n",
      "weighted avg       1.00      1.00      1.00    747410\n",
      "\n",
      "-------------------------------------------------------\n",
      "Matrice de confusion :\n",
      " [[740663    174]\n",
      " [  2300   4273]]\n",
      "-------------------------------------------------------\n",
      "Auc Score :\n",
      " 0.824924403082035\n",
      "-------------------------------------------------------\n",
      "Chiffre d'affaire = 45871685.08 euros\n",
      "-------------------------------------------------------\n"
     ]
    },
    {
     "data": {
      "image/png": "[encoded data removed]",
      "text/plain": [
       "<Figure size 432x288 with 1 Axes>"
      ]
     },
     "metadata": {
      "needs_background": "light"
     },
     "output_type": "display_data"
    },
    {
     "data": {
      "image/png": "[encoded data removed]",
      "text/plain": [
       "<Figure size 432x288 with 1 Axes>"
      ]
     },
     "metadata": {
      "needs_background": "light"
     },
     "output_type": "display_data"
    }
   ],
   "source": [
    "dep4 = deploiement(modele = \"modele4.sav\", XTest = XTest_ok, yTest = yTest, scale = True)"
   ]
  },
  {
   "cell_type": "markdown",
   "id": "b4cc3b67",
   "metadata": {},
   "source": [
    "## -------- Algorithme n°5 : Régression logistique LASSO --------\n",
    "Régression logistique LASSO avec le paramètre penalty = 'l1' en utilisant le solveur 'saga'."
   ]
  },
  {
   "cell_type": "markdown",
   "id": "f2da92f3",
   "metadata": {},
   "source": [
    "### a. Création, entrainement et exportation du modele"
   ]
  },
  {
   "cell_type": "code",
   "execution_count": 27,
   "id": "ccbb004f",
   "metadata": {},
   "outputs": [],
   "source": [
    "# Instanciation \n",
    "clf = LogisticRegression(random_state=0, penalty='l1', solver='saga', C=0.1)\n",
    "\n",
    "# Structure de l'entrainement\n",
    "delayed_fit = delayed(clf.fit)(XTrain_ok_scale, yTrain)"
   ]
  },
  {
   "cell_type": "code",
   "execution_count": 28,
   "id": "a0a1b1be",
   "metadata": {},
   "outputs": [
    {
     "name": "stdout",
     "output_type": "stream",
     "text": [
      "LogisticRegression(C=0.1, penalty='l1', random_state=0, solver='saga')\n"
     ]
    },
    {
     "name": "stderr",
     "output_type": "stream",
     "text": [
      "/home/elisa/anaconda3/lib/python3.8/site-packages/sklearn/linear_model/_sag.py:352: ConvergenceWarning: The max_iter was reached which means the coef_ did not converge\n",
      "  warnings.warn(\n"
     ]
    }
   ],
   "source": [
    "# Création du modèle entrainé \n",
    "model_fit = delayed_fit.compute()\n",
    "print(model_fit)"
   ]
  },
  {
   "cell_type": "code",
   "execution_count": 29,
   "id": "a27b75ea",
   "metadata": {},
   "outputs": [],
   "source": [
    "# Exportation du modèle \n",
    "f = open(\"modele5.sav\", \"wb\")\n",
    "pickle.dump(model_fit, f)\n",
    "f.close()"
   ]
  },
  {
   "cell_type": "markdown",
   "id": "9ae3f8dd",
   "metadata": {},
   "source": [
    "### b. Déploiement du modèle"
   ]
  },
  {
   "cell_type": "code",
   "execution_count": 30,
   "id": "811333bc",
   "metadata": {},
   "outputs": [
    {
     "name": "stdout",
     "output_type": "stream",
     "text": [
      "-------------------------------------------------------\n",
      "Modèle :\n",
      " LogisticRegression(C=0.1, penalty='l1', random_state=0, solver='saga')\n",
      "-------------------------------------------------------\n",
      "Estimateurs :\n",
      "               precision    recall  f1-score   support\n",
      "\n",
      "           0       1.00      1.00      1.00    740837\n",
      "           1       0.96      0.65      0.78      6573\n",
      "\n",
      "    accuracy                           1.00    747410\n",
      "   macro avg       0.98      0.82      0.89    747410\n",
      "weighted avg       1.00      1.00      1.00    747410\n",
      "\n",
      "-------------------------------------------------------\n",
      "Matrice de confusion :\n",
      " [[740663    174]\n",
      " [  2300   4273]]\n",
      "-------------------------------------------------------\n",
      "Auc Score :\n",
      " 0.824924403082035\n",
      "-------------------------------------------------------\n",
      "Chiffre d'affaire = 45871685.08 euros\n",
      "-------------------------------------------------------\n"
     ]
    },
    {
     "data": {
      "image/png": "[encoded data removed]",
      "text/plain": [
       "<Figure size 432x288 with 1 Axes>"
      ]
     },
     "metadata": {
      "needs_background": "light"
     },
     "output_type": "display_data"
    },
    {
     "data": {
      "image/png": "[encoded data removed]",
      "text/plain": [
       "<Figure size 432x288 with 1 Axes>"
      ]
     },
     "metadata": {
      "needs_background": "light"
     },
     "output_type": "display_data"
    }
   ],
   "source": [
    "dep5 = deploiement(modele = \"modele5.sav\", XTest = XTest_ok, yTest = yTest, scale = True)"
   ]
  },
  {
   "cell_type": "markdown",
   "id": "5e162703",
   "metadata": {},
   "source": [
    "## -------- Algorithme n°6 : Régression logistique RIDGE --------¶\n",
    "Régression logistique RIDGE avec le paramètre penalty = 'l2' en utilisant le solveur 'saga'."
   ]
  },
  {
   "cell_type": "markdown",
   "id": "28c453a3",
   "metadata": {},
   "source": [
    "### a. Création, entrainement et exportation du modele"
   ]
  },
  {
   "cell_type": "code",
   "execution_count": 31,
   "id": "06a0827e",
   "metadata": {},
   "outputs": [],
   "source": [
    "# Instanciation \n",
    "clf = LogisticRegression(random_state=0, penalty='l2', solver='saga', C=0.1)\n",
    "\n",
    "# Structure de l'entrainement\n",
    "delayed_fit = delayed(clf.fit)(XTrain_ok_scale, yTrain)"
   ]
  },
  {
   "cell_type": "code",
   "execution_count": 32,
   "id": "389fead2",
   "metadata": {},
   "outputs": [
    {
     "name": "stdout",
     "output_type": "stream",
     "text": [
      "LogisticRegression(C=0.1, random_state=0, solver='saga')\n"
     ]
    },
    {
     "name": "stderr",
     "output_type": "stream",
     "text": [
      "/home/elisa/anaconda3/lib/python3.8/site-packages/sklearn/linear_model/_sag.py:352: ConvergenceWarning: The max_iter was reached which means the coef_ did not converge\n",
      "  warnings.warn(\n"
     ]
    }
   ],
   "source": [
    "# Création du modèle entrainé \n",
    "model_fit = delayed_fit.compute()\n",
    "print(model_fit)"
   ]
  },
  {
   "cell_type": "code",
   "execution_count": 33,
   "id": "ecde91a9",
   "metadata": {},
   "outputs": [],
   "source": [
    "# Exportation du modèle \n",
    "f = open(\"modele6.sav\", \"wb\")\n",
    "pickle.dump(model_fit, f)\n",
    "f.close()"
   ]
  },
  {
   "cell_type": "markdown",
   "id": "e15769e9",
   "metadata": {},
   "source": [
    "### b. Déploiement du modèle"
   ]
  },
  {
   "cell_type": "code",
   "execution_count": 34,
   "id": "5ae5088a",
   "metadata": {},
   "outputs": [
    {
     "name": "stdout",
     "output_type": "stream",
     "text": [
      "-------------------------------------------------------\n",
      "Modèle :\n",
      " LogisticRegression(C=0.1, random_state=0, solver='saga')\n",
      "-------------------------------------------------------\n",
      "Estimateurs :\n",
      "               precision    recall  f1-score   support\n",
      "\n",
      "           0       1.00      1.00      1.00    740837\n",
      "           1       0.96      0.65      0.78      6573\n",
      "\n",
      "    accuracy                           1.00    747410\n",
      "   macro avg       0.98      0.82      0.89    747410\n",
      "weighted avg       1.00      1.00      1.00    747410\n",
      "\n",
      "-------------------------------------------------------\n",
      "Matrice de confusion :\n",
      " [[740663    174]\n",
      " [  2300   4273]]\n",
      "-------------------------------------------------------\n",
      "Auc Score :\n",
      " 0.824924403082035\n",
      "-------------------------------------------------------\n",
      "Chiffre d'affaire = 45871685.08 euros\n",
      "-------------------------------------------------------\n"
     ]
    },
    {
     "data": {
      "image/png": "[encoded data removed]",
      "text/plain": [
       "<Figure size 432x288 with 1 Axes>"
      ]
     },
     "metadata": {
      "needs_background": "light"
     },
     "output_type": "display_data"
    },
    {
     "data": {
      "image/png": "[encoded data removed]",
      "text/plain": [
       "<Figure size 432x288 with 1 Axes>"
      ]
     },
     "metadata": {
      "needs_background": "light"
     },
     "output_type": "display_data"
    }
   ],
   "source": [
    "dep6 = deploiement(modele = \"modele6.sav\", XTest = XTest_ok, yTest = yTest, scale = True)"
   ]
  },
  {
   "cell_type": "markdown",
   "id": "25522098",
   "metadata": {},
   "source": [
    "## -------- Algorithme n°7 : Régression logistique ELASTICNET --------¶\n",
    "Régression logistique ELASTICNET en basculant le paramètre penalty = 'elasticnet' avec un l1_ratio = 0.5 pour ne favoriser ni RIDGE, ni LASSO."
   ]
  },
  {
   "cell_type": "markdown",
   "id": "ad66e4b3",
   "metadata": {},
   "source": [
    "### a. Création, entrainement et exportation du modele"
   ]
  },
  {
   "cell_type": "code",
   "execution_count": 35,
   "id": "4159c48a",
   "metadata": {},
   "outputs": [],
   "source": [
    "# Instanciation \n",
    "clf = LogisticRegression(random_state=0, penalty='elasticnet', l1_ratio=0.5, solver='saga', C=0.01)\n",
    "\n",
    "# Structure de l'entrainement\n",
    "delayed_fit = delayed(clf.fit)(XTrain_ok_scale, yTrain)"
   ]
  },
  {
   "cell_type": "code",
   "execution_count": 36,
   "id": "fded0f73",
   "metadata": {},
   "outputs": [
    {
     "name": "stdout",
     "output_type": "stream",
     "text": [
      "LogisticRegression(C=0.01, l1_ratio=0.5, penalty='elasticnet', random_state=0,\n",
      "                   solver='saga')\n"
     ]
    },
    {
     "name": "stderr",
     "output_type": "stream",
     "text": [
      "/home/elisa/anaconda3/lib/python3.8/site-packages/sklearn/linear_model/_sag.py:352: ConvergenceWarning: The max_iter was reached which means the coef_ did not converge\n",
      "  warnings.warn(\n"
     ]
    }
   ],
   "source": [
    "# Création du modèle entrainé \n",
    "model_fit = delayed_fit.compute()\n",
    "print(model_fit)"
   ]
  },
  {
   "cell_type": "code",
   "execution_count": 37,
   "id": "dfa86603",
   "metadata": {},
   "outputs": [],
   "source": [
    "# Exportation du modèle \n",
    "f = open(\"modele7.sav\", \"wb\")\n",
    "pickle.dump(model_fit, f)\n",
    "f.close()"
   ]
  },
  {
   "cell_type": "markdown",
   "id": "44bacd65",
   "metadata": {},
   "source": [
    "### b. Déploiement du modèle"
   ]
  },
  {
   "cell_type": "code",
   "execution_count": 38,
   "id": "d205aea6",
   "metadata": {},
   "outputs": [
    {
     "name": "stdout",
     "output_type": "stream",
     "text": [
      "-------------------------------------------------------\n",
      "Modèle :\n",
      " LogisticRegression(C=0.01, l1_ratio=0.5, penalty='elasticnet', random_state=0,\n",
      "                   solver='saga')\n",
      "-------------------------------------------------------\n",
      "Estimateurs :\n",
      "               precision    recall  f1-score   support\n",
      "\n",
      "           0       1.00      1.00      1.00    740837\n",
      "           1       0.96      0.65      0.78      6573\n",
      "\n",
      "    accuracy                           1.00    747410\n",
      "   macro avg       0.98      0.82      0.89    747410\n",
      "weighted avg       1.00      1.00      1.00    747410\n",
      "\n",
      "-------------------------------------------------------\n",
      "Matrice de confusion :\n",
      " [[740663    174]\n",
      " [  2300   4273]]\n",
      "-------------------------------------------------------\n",
      "Auc Score :\n",
      " 0.824924403082035\n",
      "-------------------------------------------------------\n",
      "Chiffre d'affaire = 45871685.08 euros\n",
      "-------------------------------------------------------\n"
     ]
    },
    {
     "data": {
      "image/png": "[encoded data removed]",
      "text/plain": [
       "<Figure size 432x288 with 1 Axes>"
      ]
     },
     "metadata": {
      "needs_background": "light"
     },
     "output_type": "display_data"
    },
    {
     "data": {
      "image/png": "[encoded data removed]",
      "text/plain": [
       "<Figure size 432x288 with 1 Axes>"
      ]
     },
     "metadata": {
      "needs_background": "light"
     },
     "output_type": "display_data"
    }
   ],
   "source": [
    "dep7 = deploiement(modele = \"modele7.sav\", XTest = XTest_ok, yTest = yTest, scale = True)"
   ]
  },
  {
   "cell_type": "markdown",
   "id": "429d40b5",
   "metadata": {},
   "source": [
    "## V. Comparaison des modèles"
   ]
  },
  {
   "cell_type": "code",
   "execution_count": 41,
   "id": "45562d0c",
   "metadata": {},
   "outputs": [
    {
     "data": {
      "image/png": "[encoded data removed]",
      "text/plain": [
       "<Figure size 432x288 with 1 Axes>"
      ]
     },
     "metadata": {
      "needs_background": "light"
     },
     "output_type": "display_data"
    }
   ],
   "source": [
    "# Comparaison du CA généré par chaque modèle\n",
    "dep = [dep1, dep2, dep3, dep4, dep5, dep6, dep7]\n",
    "plt.plot(dep)\n",
    "plt.ylabel(\"Chiffre d'afaire généré\")\n",
    "plt.xlabel(\"Modèles\")\n",
    "plt.title(\"Comparaison du CA généré par chaque modèle\") \n",
    "plt.show()"
   ]
  },
  {
   "cell_type": "code",
   "execution_count": null,
   "id": "073e64db",
   "metadata": {},
   "outputs": [],
   "source": []
  },
  {
   "cell_type": "code",
   "execution_count": null,
   "id": "038a2d2f",
   "metadata": {},
   "outputs": [],
   "source": []
  },
  {
   "cell_type": "code",
   "execution_count": null,
   "id": "d78e9e25",
   "metadata": {},
   "outputs": [],
   "source": []
  },
  {
   "cell_type": "code",
   "execution_count": null,
   "id": "f3a0dcab",
   "metadata": {},
   "outputs": [],
   "source": []
  },
  {
   "cell_type": "code",
   "execution_count": null,
   "id": "1b636ba0",
   "metadata": {},
   "outputs": [],
   "source": []
  },
  {
   "cell_type": "code",
   "execution_count": null,
   "id": "3b375639",
   "metadata": {},
   "outputs": [],
   "source": []
  },
  {
   "cell_type": "code",
   "execution_count": null,
   "id": "55fdb115",
   "metadata": {},
   "outputs": [],
   "source": []
  },
  {
   "cell_type": "code",
   "execution_count": null,
   "id": "292a4c41",
   "metadata": {},
   "outputs": [],
   "source": []
  },
  {
   "cell_type": "code",
   "execution_count": null,
   "id": "55c6a87b",
   "metadata": {},
   "outputs": [],
   "source": []
  },
  {
   "cell_type": "code",
   "execution_count": null,
   "id": "0bfc039f",
   "metadata": {},
   "outputs": [],
   "source": []
  },
  {
   "cell_type": "code",
   "execution_count": null,
   "id": "48c144db",
   "metadata": {},
   "outputs": [],
   "source": []
  },
  {
   "cell_type": "code",
   "execution_count": null,
   "id": "beee65cc",
   "metadata": {},
   "outputs": [],
   "source": []
  },
  {
   "cell_type": "code",
   "execution_count": null,
   "id": "dd1552d9",
   "metadata": {},
   "outputs": [],
   "source": []
  },
  {
   "cell_type": "code",
   "execution_count": null,
   "id": "e2ee5705",
   "metadata": {},
   "outputs": [],
   "source": []
  }
 ],
 "metadata": {
  "kernelspec": {
   "display_name": "Python 3 (ipykernel)",
   "language": "python",
   "name": "python3"
  },
  "language_info": {
   "codemirror_mode": {
    "name": "ipython",
    "version": 3
   },
   "file_extension": ".py",
   "mimetype": "text/x-python",
   "name": "python",
   "nbconvert_exporter": "python",
   "pygments_lexer": "ipython3",
   "version": "3.8.11"
  }
 },
 "nbformat": 4,
 "nbformat_minor": 5
}
