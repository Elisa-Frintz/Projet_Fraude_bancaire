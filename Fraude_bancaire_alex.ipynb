{
 "cells": [
  {
   "cell_type": "markdown",
   "metadata": {},
   "source": [
    "Import des librairies"
   ]
  },
  {
   "cell_type": "code",
   "execution_count": 1,
   "metadata": {},
   "outputs": [],
   "source": [
    "import os\n",
    "import dask.dataframe as dd\n",
    "import warnings\n",
    "warnings.filterwarnings('ignore')\n",
    "from sklearn.metrics import confusion_matrix, classification_report, roc_auc_score\n",
    "from dask import delayed\n",
    "from sklearn.linear_model import LogisticRegression\n",
    "from dask_ml.preprocessing import StandardScaler\n",
    "\n",
    "path = os.getcwd()"
   ]
  },
  {
   "cell_type": "markdown",
   "metadata": {},
   "source": [
    "Import du jeu de données"
   ]
  },
  {
   "cell_type": "code",
   "execution_count": 2,
   "metadata": {},
   "outputs": [],
   "source": [
    "df = dd.read_table(path + \"/fraudes.txt\", sep=\";\", dtype={\n",
    "       'CA3TRetMtt': 'float64',\n",
    "       'CA3TR': 'float64',\n",
    "       'CodeDecision': 'category',\n",
    "       'D2CB': 'int64',\n",
    "       'DiffDateTr1': 'float64',\n",
    "       'DiffDateTr2': 'float64',\n",
    "       'DiffDateTr3': 'float64',\n",
    "       'EcartNumCheq': 'int64',\n",
    "       'FlagImpaye': 'int64',\n",
    "       'Heure': 'int64',\n",
    "       'Montant': 'float64',\n",
    "       'NbrMagasin3J': 'int64',\n",
    "       'ScoringFP1': 'float64',\n",
    "       'ScoringFP2': 'float64',\n",
    "       'ScoringFP3': 'float64',\n",
    "       'TauxImpNB_CPM': 'float64',\n",
    "       'TauxImpNb_RB': 'float64',\n",
    "       'VerifianceCPT1': 'int64',\n",
    "       'VerifianceCPT2': 'int64',\n",
    "       'VerifianceCPT3': 'int64'}, header=0, assume_missing=True, blocksize=940*1024*1024, parse_dates=['DateTransaction'])"
   ]
  },
  {
   "cell_type": "code",
   "execution_count": 3,
   "metadata": {},
   "outputs": [],
   "source": [
    "#Suppression des colonnes liées aux variables qui n'apportent aucun intérêt.\n",
    "df2 = df.iloc[:,2:]\n",
    "df2 = df2.drop(['Heure', 'VerifianceCPT1', 'VerifianceCPT2', 'VerifianceCPT3', 'CA3TRetMtt'], axis=1)\n",
    "df2['CodeDecision'] = df2['CodeDecision'].cat.as_known()\n",
    "df2 = dd.get_dummies(df2)"
   ]
  },
  {
   "cell_type": "code",
   "execution_count": 4,
   "metadata": {},
   "outputs": [],
   "source": [
    "# Aperçu des données\n",
    "# df2.head()"
   ]
  },
  {
   "cell_type": "markdown",
   "metadata": {},
   "source": [
    "Séparation entrainement / test"
   ]
  },
  {
   "cell_type": "code",
   "execution_count": 5,
   "metadata": {},
   "outputs": [],
   "source": [
    "# Traiter la date pour couper le jeux en 2 - apprentissage / test\n",
    "df2['DateTransaction'] = df2['DateTransaction'].map(lambda x: x.strftime('%Y-%m-%d'))\n",
    "\n",
    "# Transformation en array car dask ne prend pas des df avec train_test_split\n",
    "X_train = df2.iloc[:,1:].loc[df2['DateTransaction'] <= '2017-08-31']\n",
    "y_train = df2['FlagImpaye'].loc[df2['DateTransaction'] <= '2017-08-31']\n",
    "X_test = df2.iloc[:,1:].loc[df2['DateTransaction'] >= '2017-09-01']\n",
    "y_test = df2['FlagImpaye'].loc[df2['DateTransaction'] >= '2017-09-01']\n",
    "\n",
    "X_train = X_train.drop(['DateTransaction'], axis=1)\n",
    "X_test = X_test.drop(['DateTransaction'], axis=1)"
   ]
  },
  {
   "cell_type": "markdown",
   "metadata": {},
   "source": [
    "Normalisation des données"
   ]
  },
  {
   "cell_type": "code",
   "execution_count": 6,
   "metadata": {},
   "outputs": [],
   "source": [
    "# Instanciation de StandardScaler pour centrer réduire les données\n",
    "scaler = StandardScaler()\n",
    "\n",
    "X_scale_train = scaler.fit_transform(X_train)\n",
    "X_scale_test = scaler.fit_transform(X_test)"
   ]
  },
  {
   "cell_type": "markdown",
   "metadata": {},
   "source": [
    "Après avoir réussi à gérer l'importation du dataset. Nous testons un premier algorithme sans technique d'échantillonnage et avec le solver par defaut. Avec la fonction delayed, nous pouvons accélérer les calculs et utiliser la parallélisation grâce à dask."
   ]
  },
  {
   "cell_type": "code",
   "execution_count": 7,
   "metadata": {},
   "outputs": [],
   "source": [
    "# Régression par défaut 'liblinear'\n",
    "clf = LogisticRegression(random_state=0)\n",
    "\n",
    "# Entrainement\n",
    "delayed_fit = delayed(clf.fit)(X_scale_train, y_train)"
   ]
  },
  {
   "cell_type": "code",
   "execution_count": 8,
   "metadata": {},
   "outputs": [],
   "source": [
    "# Prédiction\n",
    "delayed_ypred = delayed(delayed_fit.predict)(X_scale_test)\n",
    "delayed_y_score = delayed(delayed_fit.predict_proba)(X_scale_test)"
   ]
  },
  {
   "cell_type": "code",
   "execution_count": 9,
   "metadata": {},
   "outputs": [],
   "source": [
    "# Lancement définitif du traitement sous dask\n",
    "ypred_defaut = delayed_ypred.compute()\n",
    "y_score_defaut = delayed_y_score.compute()"
   ]
  },
  {
   "cell_type": "code",
   "execution_count": 10,
   "metadata": {},
   "outputs": [
    {
     "name": "stdout",
     "output_type": "stream",
     "text": [
      "Estimateurs :\n",
      "               precision    recall  f1-score   support\n",
      "\n",
      "           0       0.99      1.00      1.00    740838\n",
      "           1       0.98      0.22      0.36      6573\n",
      "\n",
      "    accuracy                           0.99    747411\n",
      "   macro avg       0.99      0.61      0.68    747411\n",
      "weighted avg       0.99      0.99      0.99    747411\n",
      "\n",
      "Matrice de confusion :\n",
      " [[740814     24]\n",
      " [  5125   1448]]\n",
      "Auc Score :\n",
      " 0.6101313755331401\n"
     ]
    }
   ],
   "source": [
    "# Estimateurs, matrice de confusion et AUC\n",
    "cm = delayed(confusion_matrix)(y_test, ypred_defaut)\n",
    "cr = delayed(classification_report)(y_test, ypred_defaut)\n",
    "roc = delayed(roc_auc_score)(y_test, ypred_defaut)\n",
    "\n",
    "print('Estimateurs :\\n', cr.compute())\n",
    "print('Matrice de confusion :\\n', cm.compute())\n",
    "print('Auc Score :\\n', roc.compute())"
   ]
  },
  {
   "cell_type": "markdown",
   "metadata": {},
   "source": [
    "Dans un deuxième temps, mettons en place la régression logistique avec le solveur 'saga', recommandé pour les grands jeux de données."
   ]
  },
  {
   "cell_type": "code",
   "execution_count": 11,
   "metadata": {},
   "outputs": [],
   "source": [
    "# Régression avec solveur saga\n",
    "clf = LogisticRegression(random_state=0, solver='saga')\n",
    "\n",
    "# Entrainement\n",
    "delayed_fit = delayed(clf.fit)(X_scale_train, y_train)"
   ]
  },
  {
   "cell_type": "code",
   "execution_count": 12,
   "metadata": {},
   "outputs": [],
   "source": [
    "# Prédiction\n",
    "delayed_ypred = delayed(delayed_fit.predict)(X_scale_test)\n",
    "delayed_y_score = delayed(delayed_fit.predict_proba)(X_scale_test)"
   ]
  },
  {
   "cell_type": "code",
   "execution_count": 13,
   "metadata": {},
   "outputs": [],
   "source": [
    "# Lancement définitif du traitement sous dask\n",
    "ypred_saga = delayed_ypred.compute()\n",
    "y_score_saga = delayed_y_score.compute()"
   ]
  },
  {
   "cell_type": "code",
   "execution_count": 14,
   "metadata": {},
   "outputs": [
    {
     "name": "stdout",
     "output_type": "stream",
     "text": [
      "Estimateurs :\n",
      "               precision    recall  f1-score   support\n",
      "\n",
      "           0       1.00      1.00      1.00    740838\n",
      "           1       0.96      0.65      0.77      6573\n",
      "\n",
      "    accuracy                           1.00    747411\n",
      "   macro avg       0.98      0.82      0.89    747411\n",
      "weighted avg       1.00      1.00      1.00    747411\n",
      "\n",
      "Matrice de confusion :\n",
      " [[740663    175]\n",
      " [  2310   4263]]\n",
      "Auc Score :\n",
      " 0.8241630406675208\n"
     ]
    }
   ],
   "source": [
    "# Estimateurs, matrice de confusion et AUC\n",
    "cm = delayed(confusion_matrix)(y_test, ypred_saga)\n",
    "cr = delayed(classification_report)(y_test, ypred_saga)\n",
    "roc = delayed(roc_auc_score)(y_test, ypred_saga)\n",
    "\n",
    "print('Estimateurs :\\n', cr.compute())\n",
    "print('Matrice de confusion :\\n', cm.compute())\n",
    "print('Auc Score :\\n', roc.compute())"
   ]
  },
  {
   "cell_type": "markdown",
   "metadata": {},
   "source": [
    "Introduisons la régression penalisée LASSO avec le paramètre penalty = 'l1' en utilisant le solveur 'saga'."
   ]
  },
  {
   "cell_type": "code",
   "execution_count": 15,
   "metadata": {},
   "outputs": [],
   "source": [
    "# Régression LASSO\n",
    "clf = LogisticRegression(random_state=0, penalty='l1', solver='saga', C=0.1)\n",
    "\n",
    "# Entrainement\n",
    "delayed_fit = delayed(clf.fit)(X_scale_train, y_train)"
   ]
  },
  {
   "cell_type": "code",
   "execution_count": 16,
   "metadata": {},
   "outputs": [],
   "source": [
    "# Prédiction\n",
    "delayed_ypred = delayed(delayed_fit.predict)(X_scale_test)\n",
    "delayed_y_score = delayed(delayed_fit.predict_proba)(X_scale_test)"
   ]
  },
  {
   "cell_type": "code",
   "execution_count": 17,
   "metadata": {},
   "outputs": [],
   "source": [
    "# Lancement définitif du traitement sous dask\n",
    "ypred_lasso = delayed_ypred.compute()\n",
    "y_score_lasso = delayed_y_score.compute()"
   ]
  },
  {
   "cell_type": "code",
   "execution_count": 18,
   "metadata": {},
   "outputs": [
    {
     "name": "stdout",
     "output_type": "stream",
     "text": [
      "Estimateurs :\n",
      "               precision    recall  f1-score   support\n",
      "\n",
      "           0       1.00      1.00      1.00    740838\n",
      "           1       0.96      0.65      0.77      6573\n",
      "\n",
      "    accuracy                           1.00    747411\n",
      "   macro avg       0.98      0.82      0.89    747411\n",
      "weighted avg       1.00      1.00      1.00    747411\n",
      "\n",
      "Matrice de confusion :\n",
      " [[740664    174]\n",
      " [  2311   4262]]\n",
      "Auc Score :\n",
      " 0.8240876468127403\n"
     ]
    }
   ],
   "source": [
    "# Estimateurs, matrice de confusion et AUC\n",
    "cm = delayed(confusion_matrix)(y_test, ypred_lasso)\n",
    "cr = delayed(classification_report)(y_test, ypred_lasso)\n",
    "roc = delayed(roc_auc_score)(y_test, ypred_lasso)\n",
    "\n",
    "print('Estimateurs :\\n', cr.compute())\n",
    "print('Matrice de confusion :\\n', cm.compute())\n",
    "print('Auc Score :\\n', roc.compute())"
   ]
  },
  {
   "cell_type": "markdown",
   "metadata": {},
   "source": [
    "Testons la régression pénalisée RIDGE en basculant le paramètre penalty = 'l2'."
   ]
  },
  {
   "cell_type": "code",
   "execution_count": 19,
   "metadata": {},
   "outputs": [],
   "source": [
    "# Régression RIDGE\n",
    "clf = LogisticRegression(random_state=0, penalty='l2', solver='saga', C=0.1)\n",
    "\n",
    "# Entrainement\n",
    "delayed_fit = delayed(clf.fit)(X_scale_train, y_train)"
   ]
  },
  {
   "cell_type": "code",
   "execution_count": 20,
   "metadata": {},
   "outputs": [],
   "source": [
    "# Prédiction\n",
    "delayed_ypred = delayed(delayed_fit.predict)(X_scale_test)\n",
    "delayed_y_score = delayed(delayed_fit.predict_proba)(X_scale_test)"
   ]
  },
  {
   "cell_type": "code",
   "execution_count": 21,
   "metadata": {},
   "outputs": [],
   "source": [
    "# Lancement définitif du traitement sous dask\n",
    "ypred_ridge = delayed_ypred.compute()\n",
    "y_score_ridge = delayed_y_score.compute()"
   ]
  },
  {
   "cell_type": "code",
   "execution_count": 22,
   "metadata": {},
   "outputs": [
    {
     "name": "stdout",
     "output_type": "stream",
     "text": [
      "Estimateurs :\n",
      "               precision    recall  f1-score   support\n",
      "\n",
      "           0       1.00      1.00      1.00    740838\n",
      "           1       0.96      0.65      0.77      6573\n",
      "\n",
      "    accuracy                           1.00    747411\n",
      "   macro avg       0.98      0.82      0.89    747411\n",
      "weighted avg       1.00      1.00      1.00    747411\n",
      "\n",
      "Matrice de confusion :\n",
      " [[740663    175]\n",
      " [  2310   4263]]\n",
      "Auc Score :\n",
      " 0.8241630406675208\n"
     ]
    }
   ],
   "source": [
    "# Estimateurs, matrice de confusion et AUC\n",
    "cm = delayed(confusion_matrix)(y_test, ypred_ridge)\n",
    "cr = delayed(classification_report)(y_test, ypred_ridge)\n",
    "roc = delayed(roc_auc_score)(y_test, ypred_ridge)\n",
    "\n",
    "print('Estimateurs :\\n', cr.compute())\n",
    "print('Matrice de confusion :\\n', cm.compute())\n",
    "print('Auc Score :\\n', roc.compute())"
   ]
  },
  {
   "cell_type": "markdown",
   "metadata": {},
   "source": [
    "Testons la régression pénalisée ELASTICNET en basculant le paramètre penalty = 'elasticnet' avec un l1_ratio = 0.5 pour ne favoriser ni RIDGE, ni LASSO."
   ]
  },
  {
   "cell_type": "code",
   "execution_count": 23,
   "metadata": {},
   "outputs": [],
   "source": [
    "# Régression ELASTICNET\n",
    "clf = LogisticRegression(random_state=0, penalty='elasticnet', l1_ratio=0.5, solver='saga', C=0.01)\n",
    "\n",
    "# Entrainement\n",
    "delayed_fit = delayed(clf.fit)(X_scale_train, y_train)"
   ]
  },
  {
   "cell_type": "code",
   "execution_count": 24,
   "metadata": {},
   "outputs": [],
   "source": [
    "# Prédiction\n",
    "delayed_ypred = delayed(delayed_fit.predict)(X_scale_test)\n",
    "delayed_y_score = delayed(delayed_fit.predict_proba)(X_scale_test)"
   ]
  },
  {
   "cell_type": "code",
   "execution_count": 25,
   "metadata": {},
   "outputs": [],
   "source": [
    "# Lancement définitif du traitement sous dask\n",
    "ypred_elasticnet = delayed_ypred.compute()\n",
    "y_score_elasticnet = delayed_y_score.compute()"
   ]
  },
  {
   "cell_type": "code",
   "execution_count": 26,
   "metadata": {},
   "outputs": [
    {
     "name": "stdout",
     "output_type": "stream",
     "text": [
      "Estimateurs :\n",
      "               precision    recall  f1-score   support\n",
      "\n",
      "           0       1.00      1.00      1.00    740838\n",
      "           1       0.96      0.65      0.77      6573\n",
      "\n",
      "    accuracy                           1.00    747411\n",
      "   macro avg       0.98      0.82      0.89    747411\n",
      "weighted avg       1.00      1.00      1.00    747411\n",
      "\n",
      "Matrice de confusion :\n",
      " [[740666    172]\n",
      " [  2313   4260]]\n",
      "Auc Score :\n",
      " 0.8239368591031792\n"
     ]
    }
   ],
   "source": [
    "# Estimateurs, matrice de confusion et AUC\n",
    "cm = delayed(confusion_matrix)(y_test, ypred_elasticnet)\n",
    "cr = delayed(classification_report)(y_test, ypred_elasticnet)\n",
    "roc = delayed(roc_auc_score)(y_test, ypred_elasticnet)\n",
    "\n",
    "print('Estimateurs :\\n', cr.compute())\n",
    "print('Matrice de confusion :\\n', cm.compute())\n",
    "print('Auc Score :\\n', roc.compute())"
   ]
  },
  {
   "cell_type": "markdown",
   "metadata": {},
   "source": [
    "Essayons avec une stratégie d'oversampling avec l'algorithme SMOTE"
   ]
  },
  {
   "cell_type": "code",
   "execution_count": 27,
   "metadata": {},
   "outputs": [],
   "source": [
    "# Mise en place d'une méthode d'oversampling SMOTE avant de séparer le jeu de données\n",
    "from imblearn.over_sampling import SMOTE\n",
    "\n",
    "# Nous cherchons à agrandir la classe minoritaire\n",
    "method = SMOTE(random_state=0)\n",
    "X_resampled, y_resampled = method.fit_resample(X_scale_train, y_train)"
   ]
  },
  {
   "cell_type": "code",
   "execution_count": 28,
   "metadata": {},
   "outputs": [
    {
     "name": "stdout",
     "output_type": "stream",
     "text": [
      "Resampled dataset shape Counter({0: 3875940, 1: 3875940})\n"
     ]
    }
   ],
   "source": [
    "# Comptage des échantillons de la classe 'FlagImpaye'\n",
    "from collections import Counter\n",
    "\n",
    "print('Resampled dataset shape %s' % Counter(y_resampled))"
   ]
  },
  {
   "cell_type": "code",
   "execution_count": 29,
   "metadata": {},
   "outputs": [],
   "source": [
    "# Instanciation de l'objet\n",
    "clf = LogisticRegression(random_state=0, solver='saga')\n",
    "\n",
    "# Entrainement\n",
    "delayed_fit = delayed(clf.fit)(X_resampled, y_resampled)"
   ]
  },
  {
   "cell_type": "code",
   "execution_count": 30,
   "metadata": {},
   "outputs": [],
   "source": [
    "# Prédiction\n",
    "delayed_ypred = delayed(delayed_fit.predict)(X_scale_test)\n",
    "delayed_y_score = delayed(delayed_fit.predict_proba)(X_scale_test)"
   ]
  },
  {
   "cell_type": "code",
   "execution_count": 31,
   "metadata": {},
   "outputs": [],
   "source": [
    "# Lancement définitif du traitement sous dask\n",
    "ypred_smote = delayed_ypred.compute()\n",
    "y_score_smote = delayed_y_score.compute()"
   ]
  },
  {
   "cell_type": "code",
   "execution_count": 32,
   "metadata": {},
   "outputs": [
    {
     "name": "stdout",
     "output_type": "stream",
     "text": [
      "Estimateurs :\n",
      "               precision    recall  f1-score   support\n",
      "\n",
      "           0       1.00      0.96      0.98    740838\n",
      "           1       0.16      0.79      0.27      6573\n",
      "\n",
      "    accuracy                           0.96    747411\n",
      "   macro avg       0.58      0.88      0.63    747411\n",
      "weighted avg       0.99      0.96      0.97    747411\n",
      "\n",
      "Matrice de confusion :\n",
      " [[714306  26532]\n",
      " [  1375   5198]]\n",
      "Auc Score :\n",
      " 0.8774986976797807\n"
     ]
    }
   ],
   "source": [
    "# Estimateurs, matrice de confusion et AUC\n",
    "cm = delayed(confusion_matrix)(y_test, ypred_smote)\n",
    "cr = delayed(classification_report)(y_test, ypred_smote)\n",
    "roc = delayed(roc_auc_score)(y_test, ypred_smote)\n",
    "\n",
    "print('Estimateurs :\\n', cr.compute())\n",
    "print('Matrice de confusion :\\n', cm.compute())\n",
    "print('Auc Score :\\n', roc.compute())"
   ]
  },
  {
   "cell_type": "markdown",
   "metadata": {},
   "source": [
    "Utilisation de la méthode undersampling utilisée pour réduire la classe minoritaire."
   ]
  },
  {
   "cell_type": "code",
   "execution_count": 33,
   "metadata": {},
   "outputs": [],
   "source": [
    "# Mise en place d'une méthode d'undersampling avant de séparer le jeu de données\n",
    "from imblearn.under_sampling import RandomUnderSampler\n",
    "\n",
    "# Nous cherchons à agrandir la classe minoritaire\n",
    "method = RandomUnderSampler(random_state=0)\n",
    "X_resampled_under, y_resampled_under = method.fit_resample(X_scale_train, y_train)"
   ]
  },
  {
   "cell_type": "code",
   "execution_count": 34,
   "metadata": {},
   "outputs": [
    {
     "name": "stdout",
     "output_type": "stream",
     "text": [
      "Resampled dataset shape Counter({0: 23422, 1: 23422})\n"
     ]
    }
   ],
   "source": [
    "# Comptage des échantillons de la classe 'FlagImpaye'\n",
    "from collections import Counter\n",
    "\n",
    "print('Resampled dataset shape %s' % Counter(y_resampled_under))"
   ]
  },
  {
   "cell_type": "code",
   "execution_count": 35,
   "metadata": {},
   "outputs": [],
   "source": [
    "# Instanciation de l'objet\n",
    "clf = LogisticRegression(random_state=0, solver='saga')\n",
    "\n",
    "# Entrainement\n",
    "delayed_fit = delayed(clf.fit)(X_resampled_under, y_resampled_under)"
   ]
  },
  {
   "cell_type": "code",
   "execution_count": 36,
   "metadata": {},
   "outputs": [],
   "source": [
    "# Prédiction\n",
    "delayed_ypred = delayed(delayed_fit.predict)(X_scale_test)\n",
    "delayed_y_score = delayed(delayed_fit.predict_proba)(X_scale_test)"
   ]
  },
  {
   "cell_type": "code",
   "execution_count": 37,
   "metadata": {},
   "outputs": [],
   "source": [
    "# Lancement définitif du traitement sous dask\n",
    "ypred_under = delayed_ypred.compute()\n",
    "y_score_under = delayed_y_score.compute()"
   ]
  },
  {
   "cell_type": "code",
   "execution_count": 38,
   "metadata": {},
   "outputs": [
    {
     "name": "stdout",
     "output_type": "stream",
     "text": [
      "Estimateurs :\n",
      "               precision    recall  f1-score   support\n",
      "\n",
      "           0       1.00      0.96      0.98    740838\n",
      "           1       0.16      0.79      0.27      6573\n",
      "\n",
      "    accuracy                           0.96    747411\n",
      "   macro avg       0.58      0.88      0.62    747411\n",
      "weighted avg       0.99      0.96      0.97    747411\n",
      "\n",
      "Matrice de confusion :\n",
      " [[713537  27301]\n",
      " [  1384   5189]]\n",
      "Auc Score :\n",
      " 0.8762950719298992\n"
     ]
    }
   ],
   "source": [
    "# Estimateurs, matrice de confusion et AUC\n",
    "cm = delayed(confusion_matrix)(y_test, ypred_under)\n",
    "cr = delayed(classification_report)(y_test, ypred_under)\n",
    "roc = delayed(roc_auc_score)(y_test, ypred_under)\n",
    "\n",
    "print('Estimateurs :\\n', cr.compute())\n",
    "print('Matrice de confusion :\\n', cm.compute())\n",
    "print('Auc Score :\\n', roc.compute())"
   ]
  },
  {
   "cell_type": "markdown",
   "metadata": {},
   "source": [
    "Essayons de mettre en place une stratégie d'échantillonage SMOTE en mettant la classe minoritaire à 10% de la classe majoritaire."
   ]
  },
  {
   "cell_type": "code",
   "execution_count": 39,
   "metadata": {},
   "outputs": [],
   "source": [
    "# Mise en place d'une méthode d'oversampling SMOTE avant de séparer le jeu de données\n",
    "from imblearn.over_sampling import SMOTE\n",
    "\n",
    "# Nous cherchons à agrandir la classe minoritaire\n",
    "method = SMOTE(random_state=0, sampling_strategy=0.1)\n",
    "X_resampled_smote, y_resampled_smote = method.fit_resample(X_scale_train, y_train)"
   ]
  },
  {
   "cell_type": "code",
   "execution_count": 40,
   "metadata": {},
   "outputs": [
    {
     "name": "stdout",
     "output_type": "stream",
     "text": [
      "Resampled dataset shape Counter({0: 3875940, 1: 387594})\n"
     ]
    }
   ],
   "source": [
    "# Comptage des échantillons de la classe 'FlagImpaye'\n",
    "from collections import Counter\n",
    "\n",
    "print('Resampled dataset shape %s' % Counter(y_resampled_smote))"
   ]
  },
  {
   "cell_type": "code",
   "execution_count": 41,
   "metadata": {},
   "outputs": [],
   "source": [
    "# Instanciation de l'objet\n",
    "clf = LogisticRegression(random_state=0, solver='saga')\n",
    "\n",
    "# Entrainement\n",
    "delayed_fit = delayed(clf.fit)(X_resampled_smote, y_resampled_smote)"
   ]
  },
  {
   "cell_type": "code",
   "execution_count": 42,
   "metadata": {},
   "outputs": [],
   "source": [
    "# Prédiction\n",
    "delayed_ypred = delayed(delayed_fit.predict)(X_scale_test)\n",
    "delayed_y_score = delayed(delayed_fit.predict_proba)(X_scale_test)"
   ]
  },
  {
   "cell_type": "code",
   "execution_count": 43,
   "metadata": {},
   "outputs": [],
   "source": [
    "# Lancement définitif du traitement sous dask\n",
    "ypred_smote_10 = delayed_ypred.compute()\n",
    "y_score_smote_10 = delayed_y_score.compute()"
   ]
  },
  {
   "cell_type": "code",
   "execution_count": 44,
   "metadata": {},
   "outputs": [
    {
     "name": "stdout",
     "output_type": "stream",
     "text": [
      "Estimateurs :\n",
      "               precision    recall  f1-score   support\n",
      "\n",
      "           0       1.00      1.00      1.00    740838\n",
      "           1       0.85      0.67      0.75      6573\n",
      "\n",
      "    accuracy                           1.00    747411\n",
      "   macro avg       0.92      0.84      0.87    747411\n",
      "weighted avg       1.00      1.00      1.00    747411\n",
      "\n",
      "Matrice de confusion :\n",
      " [[740026    812]\n",
      " [  2143   4430]]\n",
      "Auc Score :\n",
      " 0.8364366060653169\n"
     ]
    }
   ],
   "source": [
    "# Estimateurs, matrice de confusion et AUC\n",
    "cm = delayed(confusion_matrix)(y_test, ypred_smote_10)\n",
    "cr = delayed(classification_report)(y_test, ypred_smote_10)\n",
    "roc = delayed(roc_auc_score)(y_test, ypred_smote_10)\n",
    "\n",
    "print('Estimateurs :\\n', cr.compute())\n",
    "print('Matrice de confusion :\\n', cm.compute())\n",
    "print('Auc Score :\\n', roc.compute())"
   ]
  },
  {
   "cell_type": "markdown",
   "metadata": {},
   "source": [
    "SMOTE 10% + RIDGE à 0.01"
   ]
  },
  {
   "cell_type": "code",
   "execution_count": 45,
   "metadata": {},
   "outputs": [],
   "source": [
    "# Régression RIDGE\n",
    "clf = LogisticRegression(random_state=0, penalty='l2', solver='saga', C=0.01)\n",
    "\n",
    "# Entrainement\n",
    "delayed_fit = delayed(clf.fit)(X_resampled_smote, y_resampled_smote)"
   ]
  },
  {
   "cell_type": "code",
   "execution_count": 46,
   "metadata": {},
   "outputs": [],
   "source": [
    "# Prédiction\n",
    "delayed_ypred = delayed(delayed_fit.predict)(X_scale_test)\n",
    "delayed_y_score = delayed(delayed_fit.predict_proba)(X_scale_test)"
   ]
  },
  {
   "cell_type": "code",
   "execution_count": 47,
   "metadata": {},
   "outputs": [],
   "source": [
    "# Lancement définitif du traitement sous dask\n",
    "ypred_ridge_smote_10 = delayed_ypred.compute()\n",
    "y_score_ridge_smote_10 = delayed_y_score.compute()"
   ]
  },
  {
   "cell_type": "code",
   "execution_count": 48,
   "metadata": {},
   "outputs": [
    {
     "name": "stdout",
     "output_type": "stream",
     "text": [
      "Estimateurs :\n",
      "               precision    recall  f1-score   support\n",
      "\n",
      "           0       1.00      1.00      1.00    740838\n",
      "           1       0.85      0.67      0.75      6573\n",
      "\n",
      "    accuracy                           1.00    747411\n",
      "   macro avg       0.92      0.84      0.87    747411\n",
      "weighted avg       1.00      1.00      1.00    747411\n",
      "\n",
      "Matrice de confusion :\n",
      " [[740029    809]\n",
      " [  2143   4430]]\n",
      "Auc Score :\n",
      " 0.8364386307994692\n"
     ]
    }
   ],
   "source": [
    "# Estimateurs, matrice de confusion et AUC\n",
    "cm = delayed(confusion_matrix)(y_test, ypred_ridge_smote_10)\n",
    "cr = delayed(classification_report)(y_test, ypred_ridge_smote_10)\n",
    "roc = delayed(roc_auc_score)(y_test, ypred_ridge_smote_10)\n",
    "\n",
    "print('Estimateurs :\\n', cr.compute())\n",
    "print('Matrice de confusion :\\n', cm.compute())\n",
    "print('Auc Score :\\n', roc.compute())"
   ]
  },
  {
   "cell_type": "markdown",
   "metadata": {},
   "source": [
    "SMOTE 10% + LASSO à 0.01"
   ]
  },
  {
   "cell_type": "code",
   "execution_count": 49,
   "metadata": {},
   "outputs": [],
   "source": [
    "# Régression LASSO\n",
    "clf = LogisticRegression(random_state=0, penalty='l1', solver='saga', C=0.01)\n",
    "\n",
    "# Entrainement\n",
    "delayed_fit = delayed(clf.fit)(X_resampled_smote, y_resampled_smote)"
   ]
  },
  {
   "cell_type": "code",
   "execution_count": 50,
   "metadata": {},
   "outputs": [],
   "source": [
    "# Prédiction\n",
    "delayed_ypred = delayed(delayed_fit.predict)(X_scale_test)\n",
    "delayed_y_score = delayed(delayed_fit.predict_proba)(X_scale_test)"
   ]
  },
  {
   "cell_type": "code",
   "execution_count": 51,
   "metadata": {},
   "outputs": [],
   "source": [
    "# Lancement définitif du traitement sous dask\n",
    "ypred_lasso_smote_10 = delayed_ypred.compute()\n",
    "y_score_lasso_smote_10 = delayed_y_score.compute()"
   ]
  },
  {
   "cell_type": "code",
   "execution_count": 52,
   "metadata": {},
   "outputs": [
    {
     "name": "stdout",
     "output_type": "stream",
     "text": [
      "Estimateurs :\n",
      "               precision    recall  f1-score   support\n",
      "\n",
      "           0       1.00      1.00      1.00    740838\n",
      "           1       0.85      0.67      0.75      6573\n",
      "\n",
      "    accuracy                           1.00    747411\n",
      "   macro avg       0.92      0.84      0.87    747411\n",
      "weighted avg       1.00      1.00      1.00    747411\n",
      "\n",
      "Matrice de confusion :\n",
      " [[740034    804]\n",
      " [  2138   4435]]\n",
      "Auc Score :\n",
      " 0.836822349187213\n"
     ]
    }
   ],
   "source": [
    "# Estimateurs, matrice de confusion et AUC\n",
    "cm = delayed(confusion_matrix)(y_test, ypred_lasso_smote_10)\n",
    "cr = delayed(classification_report)(y_test, ypred_lasso_smote_10)\n",
    "roc = delayed(roc_auc_score)(y_test, ypred_lasso_smote_10)\n",
    "\n",
    "print('Estimateurs :\\n', cr.compute())\n",
    "print('Matrice de confusion :\\n', cm.compute())\n",
    "print('Auc Score :\\n', roc.compute())"
   ]
  },
  {
   "cell_type": "markdown",
   "metadata": {},
   "source": [
    "SMOTE 10% avec ELASTICNET 0.01"
   ]
  },
  {
   "cell_type": "code",
   "execution_count": 53,
   "metadata": {},
   "outputs": [],
   "source": [
    "# Régression ELASTICNET\n",
    "clf = LogisticRegression(random_state=0, penalty='elasticnet', solver='saga', l1_ratio=0.5, C=0.01)\n",
    "\n",
    "# Entrainement\n",
    "delayed_fit = delayed(clf.fit)(X_resampled_smote, y_resampled_smote)"
   ]
  },
  {
   "cell_type": "code",
   "execution_count": 54,
   "metadata": {},
   "outputs": [],
   "source": [
    "# Prédiction\n",
    "delayed_ypred = delayed(delayed_fit.predict)(X_scale_test)\n",
    "delayed_y_score = delayed(delayed_fit.predict_proba)(X_scale_test)"
   ]
  },
  {
   "cell_type": "code",
   "execution_count": 55,
   "metadata": {},
   "outputs": [],
   "source": [
    "# Lancement définitif du traitement sous dask\n",
    "ypred_elasticnet_smote_10 = delayed_ypred.compute()\n",
    "y_score_elasticnet_smote_10 = delayed_y_score.compute()"
   ]
  },
  {
   "cell_type": "code",
   "execution_count": 56,
   "metadata": {},
   "outputs": [
    {
     "name": "stdout",
     "output_type": "stream",
     "text": [
      "Estimateurs :\n",
      "               precision    recall  f1-score   support\n",
      "\n",
      "           0       1.00      1.00      1.00    740838\n",
      "           1       0.85      0.67      0.75      6573\n",
      "\n",
      "    accuracy                           1.00    747411\n",
      "   macro avg       0.92      0.84      0.87    747411\n",
      "weighted avg       1.00      1.00      1.00    747411\n",
      "\n",
      "Matrice de confusion :\n",
      " [[740031    807]\n",
      " [  2141   4432]]\n",
      "Auc Score :\n",
      " 0.8365921181545668\n"
     ]
    }
   ],
   "source": [
    "# Estimateurs, matrice de confusion et AUC\n",
    "cm = delayed(confusion_matrix)(y_test, ypred_elasticnet_smote_10)\n",
    "cr = delayed(classification_report)(y_test, ypred_elasticnet_smote_10)\n",
    "roc = delayed(roc_auc_score)(y_test, ypred_elasticnet_smote_10)\n",
    "\n",
    "print('Estimateurs :\\n', cr.compute())\n",
    "print('Matrice de confusion :\\n', cm.compute())\n",
    "print('Auc Score :\\n', roc.compute())"
   ]
  },
  {
   "cell_type": "markdown",
   "metadata": {},
   "source": [
    "Quelques courbes pour présenter les résultats.\n",
    "\n",
    "1/ Courbe ROC"
   ]
  },
  {
   "cell_type": "code",
   "execution_count": 57,
   "metadata": {},
   "outputs": [
    {
     "data": {
      "text/plain": [
       "<AxesSubplot:title={'center':'ROC Curves'}, xlabel='False Positive Rate', ylabel='True Positive Rate'>"
      ]
     },
     "execution_count": 57,
     "metadata": {},
     "output_type": "execute_result"
    },
    {
     "data": {
      "image/png": "[encoded data removed]",
      "text/plain": [
       "<Figure size 432x288 with 1 Axes>"
      ]
     },
     "metadata": {
      "needs_background": "light"
     },
     "output_type": "display_data"
    },
    {
     "data": {
      "image/png": "[encoded data removed]",
      "text/plain": [
       "<Figure size 432x288 with 1 Axes>"
      ]
     },
     "metadata": {
      "needs_background": "light"
     },
     "output_type": "display_data"
    },
    {
     "data": {
      "image/png": "[encoded data removed]",
      "text/plain": [
       "<Figure size 432x288 with 1 Axes>"
      ]
     },
     "metadata": {
      "needs_background": "light"
     },
     "output_type": "display_data"
    },
    {
     "data": {
      "image/png": "[encoded data removed]",
      "text/plain": [
       "<Figure size 432x288 with 1 Axes>"
      ]
     },
     "metadata": {
      "needs_background": "light"
     },
     "output_type": "display_data"
    }
   ],
   "source": [
    "import scikitplot as skplt\n",
    "\n",
    "skplt.metrics.plot_roc(y_test, y_score_defaut, classes_to_plot = 1, plot_micro = False, plot_macro = False)\n",
    "skplt.metrics.plot_roc(y_test, y_score_saga, classes_to_plot = 1, plot_micro = False, plot_macro = False)\n",
    "skplt.metrics.plot_roc(y_test, y_score_elasticnet, classes_to_plot = 1, plot_micro = False, plot_macro = False)\n",
    "skplt.metrics.plot_roc(y_test, y_score_smote, classes_to_plot = 1, plot_micro = False, plot_macro = False)"
   ]
  },
  {
   "cell_type": "markdown",
   "metadata": {},
   "source": [
    "2/ Courbe Précision-Rappel"
   ]
  },
  {
   "cell_type": "code",
   "execution_count": 58,
   "metadata": {},
   "outputs": [
    {
     "data": {
      "text/plain": [
       "<AxesSubplot:title={'center':'Precision-Recall Curve'}, xlabel='Recall', ylabel='Precision'>"
      ]
     },
     "execution_count": 58,
     "metadata": {},
     "output_type": "execute_result"
    },
    {
     "data": {
      "image/png": "[encoded data removed]",
      "text/plain": [
       "<Figure size 432x288 with 1 Axes>"
      ]
     },
     "metadata": {
      "needs_background": "light"
     },
     "output_type": "display_data"
    },
    {
     "data": {
      "image/png": "[encoded data removed]",
      "text/plain": [
       "<Figure size 432x288 with 1 Axes>"
      ]
     },
     "metadata": {
      "needs_background": "light"
     },
     "output_type": "display_data"
    },
    {
     "data": {
      "image/png": "[encoded data removed]",
      "text/plain": [
       "<Figure size 432x288 with 1 Axes>"
      ]
     },
     "metadata": {
      "needs_background": "light"
     },
     "output_type": "display_data"
    },
    {
     "data": {
      "image/png": "[encoded data removed]",
      "text/plain": [
       "<Figure size 432x288 with 1 Axes>"
      ]
     },
     "metadata": {
      "needs_background": "light"
     },
     "output_type": "display_data"
    }
   ],
   "source": [
    "skplt.metrics.plot_precision_recall(y_test, y_score_defaut, classes_to_plot = 1, plot_micro = False)\n",
    "skplt.metrics.plot_precision_recall(y_test, y_score_saga, classes_to_plot = 1, plot_micro = False)\n",
    "skplt.metrics.plot_precision_recall(y_test, y_score_elasticnet, classes_to_plot = 1, plot_micro = False)\n",
    "skplt.metrics.plot_precision_recall(y_test, y_score_smote, classes_to_plot = 1, plot_micro = False)"
   ]
  },
  {
   "cell_type": "code",
   "execution_count": 64,
   "metadata": {},
   "outputs": [
    {
     "data": {
      "text/plain": [
       "<AxesSubplot:title={'center':'Precision-Recall Curve'}, xlabel='Recall', ylabel='Precision'>"
      ]
     },
     "execution_count": 64,
     "metadata": {},
     "output_type": "execute_result"
    },
    {
     "data": {
      "image/png": "[encoded data removed]",
      "text/plain": [
       "<Figure size 432x288 with 1 Axes>"
      ]
     },
     "metadata": {
      "needs_background": "light"
     },
     "output_type": "display_data"
    }
   ],
   "source": [
    "skplt.metrics.plot_precision_recall(y_test, y_score_elasticnet_smote_10, classes_to_plot = 1, plot_micro = False)"
   ]
  },
  {
   "cell_type": "code",
   "execution_count": 65,
   "metadata": {},
   "outputs": [],
   "source": [
    "# Sauvegarde du modèle\n",
    "import pickle\n",
    "\n",
    "f = open(\"LogReg.sav\", \"wb\")\n",
    "pickle.dump(ypred_elasticnet_smote_10, f)\n",
    "f.close()"
   ]
  },
  {
   "cell_type": "markdown",
   "metadata": {},
   "source": [
    "Utilisation de la méthode SMOTEENN (SMOTE Edited Nearest Neighbours) utilisée pour une combinaison d'over et d'under-sampling et se basant sur une technique de plus proche voisins."
   ]
  },
  {
   "cell_type": "code",
   "execution_count": 60,
   "metadata": {},
   "outputs": [],
   "source": [
    "\n",
    "# Abandon de la technnique SMOTEENN beaucoup trop longue (1 nuit complète + pc planté) !\n",
    "# from imblearn.combine import SMOTEENN\n",
    "\n",
    "# method = SMOTEENN(random_state=0)\n",
    "# X_resampled_SMOTEENN, y_resampled_SMOTEENN = method.fit_resample(X_scale_train, y_train)"
   ]
  },
  {
   "cell_type": "markdown",
   "metadata": {},
   "source": [
    "Testons enfin la méthode d'échantillonnage TomekLinks qui forment des paires sur les étiquettes différentes. De ce fait, nous favorisons la suppression des individus proches de la frontière de décision qui peuvent amener à une mauvaise classification. (Il semble lui aussi très long à lancer.)\n",
    "Après un nuit complète, l'algo ne s'étant pas terminé, nous l'avons arrêté."
   ]
  },
  {
   "cell_type": "code",
   "execution_count": 61,
   "metadata": {},
   "outputs": [],
   "source": [
    "\n",
    "# Mise en place d'une méthode d'undersampling avant de séparer le jeu de données\n",
    "# from imblearn.under_sampling import TomekLinks\n",
    "\n",
    "# Nous cherchons à supprimer les individus de la classe prédite différente afin de ne retenir que les individus évidents.\n",
    "# method = TomekLinks()\n",
    "# X_resampled_tomek, y_resampled_tomek = method.fit_resample(X_scale_train, y_train)"
   ]
  },
  {
   "cell_type": "markdown",
   "metadata": {},
   "source": [
    "Préparation de la courbe ROC de tous les modèles"
   ]
  },
  {
   "cell_type": "code",
   "execution_count": 62,
   "metadata": {},
   "outputs": [],
   "source": [
    "# # Roc Curve\n",
    "# from sklearn.metrics import roc_curve\n",
    "\n",
    "# # Taux de vrais / faux positifs par algorithme pour la construction de la courbe ROC\n",
    "# false_positive_rate, true_positive_rate, threshold = roc_curve(y_test, y_score_defaut)\n",
    "# false_positive_rate_saga, true_positive_rate_saga, threshold_saga = roc_curve(y_test, y_score_saga)\n",
    "# false_positive_rate_ridge, true_positive_rate_ridge, threshold_ridge = roc_curve(y_test, y_score_ridge)\n",
    "# false_positive_rate_lasso, true_positive_rate_lasso, threshold_lasso = roc_curve(y_test, y_score_lasso)\n",
    "# false_positive_rate_elasticnet, true_positive_rate_elasticnet, threshold_elasticnet = roc_curve(y_test, y_score_elasticnet)\n",
    "# false_positive_rate_under, true_positive_rate_under, threshold_under = roc_curve(y_test, y_score_under)\n",
    "# false_positive_rate_smote, true_positive_rate_smote, threshold_smote = roc_curve(y_test, y_score_smote)\n",
    "# false_positive_rate_smote_10, true_positive_rate_smote_10, threshold_smote_10 = roc_curve(y_test, y_score_smote_10)\n",
    "# false_positive_rate_ridge_smote, true_positive_rate_ridge_smote, threshold_ridge_smote = roc_curve(y_test, y_score_ridge_smote_10)\n",
    "# false_positive_rate_lasso_smote, true_positive_rate_lasso_smote, threshold_lasso_smote = roc_curve(y_test, y_score_lasso_smote_10)\n",
    "# false_positive_rate_elasticnet_smote, true_positive_rate_elasticnet_smote, threshold_elasticnet_smote = roc_curve(y_test, y_score_elasticnet_smote_10)"
   ]
  },
  {
   "cell_type": "markdown",
   "metadata": {},
   "source": [
    "Affichage des courbes ROC"
   ]
  },
  {
   "cell_type": "code",
   "execution_count": 63,
   "metadata": {},
   "outputs": [],
   "source": [
    "# from matplotlib import pyplot as plt\n",
    "\n",
    "# plt.subplots(1, figsize=(10,10))\n",
    "# plt.title('Courbe ROC - Logistic Regression')\n",
    "# plt.plot(false_positive_rate, true_positive_rate)\n",
    "# plt.plot(false_positive_rate_saga, true_positive_rate_saga)\n",
    "# plt.plot(false_positive_rate_ridge, true_positive_rate_ridge)\n",
    "# plt.plot(false_positive_rate_lasso, true_positive_rate_lasso)\n",
    "# plt.plot(false_positive_rate_elasticnet, true_positive_rate_elasticnet)\n",
    "# plt.plot(false_positive_rate_under, true_positive_rate_under)\n",
    "# plt.plot(false_positive_rate_smote, true_positive_rate_smote)\n",
    "# plt.plot(false_positive_rate_smote_10, true_positive_rate_smote_10)\n",
    "# plt.plot(false_positive_rate_ridge_smote, true_positive_rate_ridge_smote)\n",
    "# plt.plot(false_positive_rate_lasso_smote, true_positive_rate_lasso_smote)\n",
    "# plt.plot(false_positive_rate_elasticnet_smote, true_positive_rate_elasticnet_smote)\n",
    "# plt.plot([0, 1], ls=\"--\")\n",
    "# plt.plot([0, 0], [1, 0] , c=\".7\"), plt.plot([1, 1] , c=\".7\")\n",
    "# plt.ylabel('True Positive Rate')\n",
    "# plt.xlabel('False Positive Rate')\n",
    "# plt.show()"
   ]
  }
 ],
 "metadata": {
  "kernelspec": {
   "display_name": "Python 3 (ipykernel)",
   "language": "python",
   "name": "python3"
  },
  "language_info": {
   "codemirror_mode": {
    "name": "ipython",
    "version": 3
   },
   "file_extension": ".py",
   "mimetype": "text/x-python",
   "name": "python",
   "nbconvert_exporter": "python",
   "pygments_lexer": "ipython3",
   "version": "3.8.11"
  }
 },
 "nbformat": 4,
 "nbformat_minor": 4
}
